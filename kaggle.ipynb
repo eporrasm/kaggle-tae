{
  "cells": [
    {
      "cell_type": "markdown",
      "metadata": {
        "id": "view-in-github",
        "colab_type": "text"
      },
      "source": [
        "<a href=\"https://colab.research.google.com/github/eporrasm/kaggle-tae/blob/main/kaggle.ipynb\" target=\"_parent\"><img src=\"https://colab.research.google.com/assets/colab-badge.svg\" alt=\"Open In Colab\"/></a>"
      ]
    },
    {
      "cell_type": "code",
      "execution_count": 1,
      "metadata": {
        "colab": {
          "base_uri": "https://localhost:8080/",
          "height": 187
        },
        "id": "GBp3yzmrxofT",
        "outputId": "39089daa-adbe-4990-dbba-c4cafbef50d2"
      },
      "outputs": [
        {
          "output_type": "display_data",
          "data": {
            "text/plain": [
              "<IPython.core.display.HTML object>"
            ],
            "text/html": [
              "\n",
              "     <input type=\"file\" id=\"files-f253cafe-01b7-42b0-80d4-d329a48309e4\" name=\"files[]\" multiple disabled\n",
              "        style=\"border:none\" />\n",
              "     <output id=\"result-f253cafe-01b7-42b0-80d4-d329a48309e4\">\n",
              "      Upload widget is only available when the cell has been executed in the\n",
              "      current browser session. Please rerun this cell to enable.\n",
              "      </output>\n",
              "      <script>// Copyright 2017 Google LLC\n",
              "//\n",
              "// Licensed under the Apache License, Version 2.0 (the \"License\");\n",
              "// you may not use this file except in compliance with the License.\n",
              "// You may obtain a copy of the License at\n",
              "//\n",
              "//      http://www.apache.org/licenses/LICENSE-2.0\n",
              "//\n",
              "// Unless required by applicable law or agreed to in writing, software\n",
              "// distributed under the License is distributed on an \"AS IS\" BASIS,\n",
              "// WITHOUT WARRANTIES OR CONDITIONS OF ANY KIND, either express or implied.\n",
              "// See the License for the specific language governing permissions and\n",
              "// limitations under the License.\n",
              "\n",
              "/**\n",
              " * @fileoverview Helpers for google.colab Python module.\n",
              " */\n",
              "(function(scope) {\n",
              "function span(text, styleAttributes = {}) {\n",
              "  const element = document.createElement('span');\n",
              "  element.textContent = text;\n",
              "  for (const key of Object.keys(styleAttributes)) {\n",
              "    element.style[key] = styleAttributes[key];\n",
              "  }\n",
              "  return element;\n",
              "}\n",
              "\n",
              "// Max number of bytes which will be uploaded at a time.\n",
              "const MAX_PAYLOAD_SIZE = 100 * 1024;\n",
              "\n",
              "function _uploadFiles(inputId, outputId) {\n",
              "  const steps = uploadFilesStep(inputId, outputId);\n",
              "  const outputElement = document.getElementById(outputId);\n",
              "  // Cache steps on the outputElement to make it available for the next call\n",
              "  // to uploadFilesContinue from Python.\n",
              "  outputElement.steps = steps;\n",
              "\n",
              "  return _uploadFilesContinue(outputId);\n",
              "}\n",
              "\n",
              "// This is roughly an async generator (not supported in the browser yet),\n",
              "// where there are multiple asynchronous steps and the Python side is going\n",
              "// to poll for completion of each step.\n",
              "// This uses a Promise to block the python side on completion of each step,\n",
              "// then passes the result of the previous step as the input to the next step.\n",
              "function _uploadFilesContinue(outputId) {\n",
              "  const outputElement = document.getElementById(outputId);\n",
              "  const steps = outputElement.steps;\n",
              "\n",
              "  const next = steps.next(outputElement.lastPromiseValue);\n",
              "  return Promise.resolve(next.value.promise).then((value) => {\n",
              "    // Cache the last promise value to make it available to the next\n",
              "    // step of the generator.\n",
              "    outputElement.lastPromiseValue = value;\n",
              "    return next.value.response;\n",
              "  });\n",
              "}\n",
              "\n",
              "/**\n",
              " * Generator function which is called between each async step of the upload\n",
              " * process.\n",
              " * @param {string} inputId Element ID of the input file picker element.\n",
              " * @param {string} outputId Element ID of the output display.\n",
              " * @return {!Iterable<!Object>} Iterable of next steps.\n",
              " */\n",
              "function* uploadFilesStep(inputId, outputId) {\n",
              "  const inputElement = document.getElementById(inputId);\n",
              "  inputElement.disabled = false;\n",
              "\n",
              "  const outputElement = document.getElementById(outputId);\n",
              "  outputElement.innerHTML = '';\n",
              "\n",
              "  const pickedPromise = new Promise((resolve) => {\n",
              "    inputElement.addEventListener('change', (e) => {\n",
              "      resolve(e.target.files);\n",
              "    });\n",
              "  });\n",
              "\n",
              "  const cancel = document.createElement('button');\n",
              "  inputElement.parentElement.appendChild(cancel);\n",
              "  cancel.textContent = 'Cancel upload';\n",
              "  const cancelPromise = new Promise((resolve) => {\n",
              "    cancel.onclick = () => {\n",
              "      resolve(null);\n",
              "    };\n",
              "  });\n",
              "\n",
              "  // Wait for the user to pick the files.\n",
              "  const files = yield {\n",
              "    promise: Promise.race([pickedPromise, cancelPromise]),\n",
              "    response: {\n",
              "      action: 'starting',\n",
              "    }\n",
              "  };\n",
              "\n",
              "  cancel.remove();\n",
              "\n",
              "  // Disable the input element since further picks are not allowed.\n",
              "  inputElement.disabled = true;\n",
              "\n",
              "  if (!files) {\n",
              "    return {\n",
              "      response: {\n",
              "        action: 'complete',\n",
              "      }\n",
              "    };\n",
              "  }\n",
              "\n",
              "  for (const file of files) {\n",
              "    const li = document.createElement('li');\n",
              "    li.append(span(file.name, {fontWeight: 'bold'}));\n",
              "    li.append(span(\n",
              "        `(${file.type || 'n/a'}) - ${file.size} bytes, ` +\n",
              "        `last modified: ${\n",
              "            file.lastModifiedDate ? file.lastModifiedDate.toLocaleDateString() :\n",
              "                                    'n/a'} - `));\n",
              "    const percent = span('0% done');\n",
              "    li.appendChild(percent);\n",
              "\n",
              "    outputElement.appendChild(li);\n",
              "\n",
              "    const fileDataPromise = new Promise((resolve) => {\n",
              "      const reader = new FileReader();\n",
              "      reader.onload = (e) => {\n",
              "        resolve(e.target.result);\n",
              "      };\n",
              "      reader.readAsArrayBuffer(file);\n",
              "    });\n",
              "    // Wait for the data to be ready.\n",
              "    let fileData = yield {\n",
              "      promise: fileDataPromise,\n",
              "      response: {\n",
              "        action: 'continue',\n",
              "      }\n",
              "    };\n",
              "\n",
              "    // Use a chunked sending to avoid message size limits. See b/62115660.\n",
              "    let position = 0;\n",
              "    do {\n",
              "      const length = Math.min(fileData.byteLength - position, MAX_PAYLOAD_SIZE);\n",
              "      const chunk = new Uint8Array(fileData, position, length);\n",
              "      position += length;\n",
              "\n",
              "      const base64 = btoa(String.fromCharCode.apply(null, chunk));\n",
              "      yield {\n",
              "        response: {\n",
              "          action: 'append',\n",
              "          file: file.name,\n",
              "          data: base64,\n",
              "        },\n",
              "      };\n",
              "\n",
              "      let percentDone = fileData.byteLength === 0 ?\n",
              "          100 :\n",
              "          Math.round((position / fileData.byteLength) * 100);\n",
              "      percent.textContent = `${percentDone}% done`;\n",
              "\n",
              "    } while (position < fileData.byteLength);\n",
              "  }\n",
              "\n",
              "  // All done.\n",
              "  yield {\n",
              "    response: {\n",
              "      action: 'complete',\n",
              "    }\n",
              "  };\n",
              "}\n",
              "\n",
              "scope.google = scope.google || {};\n",
              "scope.google.colab = scope.google.colab || {};\n",
              "scope.google.colab._files = {\n",
              "  _uploadFiles,\n",
              "  _uploadFilesContinue,\n",
              "};\n",
              "})(self);\n",
              "</script> "
            ]
          },
          "metadata": {}
        },
        {
          "output_type": "stream",
          "name": "stdout",
          "text": [
            "Saving train.csv to train.csv\n"
          ]
        },
        {
          "output_type": "display_data",
          "data": {
            "text/plain": [
              "<IPython.core.display.HTML object>"
            ],
            "text/html": [
              "\n",
              "     <input type=\"file\" id=\"files-3d75d014-8815-440f-9d10-693b4f3c5e96\" name=\"files[]\" multiple disabled\n",
              "        style=\"border:none\" />\n",
              "     <output id=\"result-3d75d014-8815-440f-9d10-693b4f3c5e96\">\n",
              "      Upload widget is only available when the cell has been executed in the\n",
              "      current browser session. Please rerun this cell to enable.\n",
              "      </output>\n",
              "      <script>// Copyright 2017 Google LLC\n",
              "//\n",
              "// Licensed under the Apache License, Version 2.0 (the \"License\");\n",
              "// you may not use this file except in compliance with the License.\n",
              "// You may obtain a copy of the License at\n",
              "//\n",
              "//      http://www.apache.org/licenses/LICENSE-2.0\n",
              "//\n",
              "// Unless required by applicable law or agreed to in writing, software\n",
              "// distributed under the License is distributed on an \"AS IS\" BASIS,\n",
              "// WITHOUT WARRANTIES OR CONDITIONS OF ANY KIND, either express or implied.\n",
              "// See the License for the specific language governing permissions and\n",
              "// limitations under the License.\n",
              "\n",
              "/**\n",
              " * @fileoverview Helpers for google.colab Python module.\n",
              " */\n",
              "(function(scope) {\n",
              "function span(text, styleAttributes = {}) {\n",
              "  const element = document.createElement('span');\n",
              "  element.textContent = text;\n",
              "  for (const key of Object.keys(styleAttributes)) {\n",
              "    element.style[key] = styleAttributes[key];\n",
              "  }\n",
              "  return element;\n",
              "}\n",
              "\n",
              "// Max number of bytes which will be uploaded at a time.\n",
              "const MAX_PAYLOAD_SIZE = 100 * 1024;\n",
              "\n",
              "function _uploadFiles(inputId, outputId) {\n",
              "  const steps = uploadFilesStep(inputId, outputId);\n",
              "  const outputElement = document.getElementById(outputId);\n",
              "  // Cache steps on the outputElement to make it available for the next call\n",
              "  // to uploadFilesContinue from Python.\n",
              "  outputElement.steps = steps;\n",
              "\n",
              "  return _uploadFilesContinue(outputId);\n",
              "}\n",
              "\n",
              "// This is roughly an async generator (not supported in the browser yet),\n",
              "// where there are multiple asynchronous steps and the Python side is going\n",
              "// to poll for completion of each step.\n",
              "// This uses a Promise to block the python side on completion of each step,\n",
              "// then passes the result of the previous step as the input to the next step.\n",
              "function _uploadFilesContinue(outputId) {\n",
              "  const outputElement = document.getElementById(outputId);\n",
              "  const steps = outputElement.steps;\n",
              "\n",
              "  const next = steps.next(outputElement.lastPromiseValue);\n",
              "  return Promise.resolve(next.value.promise).then((value) => {\n",
              "    // Cache the last promise value to make it available to the next\n",
              "    // step of the generator.\n",
              "    outputElement.lastPromiseValue = value;\n",
              "    return next.value.response;\n",
              "  });\n",
              "}\n",
              "\n",
              "/**\n",
              " * Generator function which is called between each async step of the upload\n",
              " * process.\n",
              " * @param {string} inputId Element ID of the input file picker element.\n",
              " * @param {string} outputId Element ID of the output display.\n",
              " * @return {!Iterable<!Object>} Iterable of next steps.\n",
              " */\n",
              "function* uploadFilesStep(inputId, outputId) {\n",
              "  const inputElement = document.getElementById(inputId);\n",
              "  inputElement.disabled = false;\n",
              "\n",
              "  const outputElement = document.getElementById(outputId);\n",
              "  outputElement.innerHTML = '';\n",
              "\n",
              "  const pickedPromise = new Promise((resolve) => {\n",
              "    inputElement.addEventListener('change', (e) => {\n",
              "      resolve(e.target.files);\n",
              "    });\n",
              "  });\n",
              "\n",
              "  const cancel = document.createElement('button');\n",
              "  inputElement.parentElement.appendChild(cancel);\n",
              "  cancel.textContent = 'Cancel upload';\n",
              "  const cancelPromise = new Promise((resolve) => {\n",
              "    cancel.onclick = () => {\n",
              "      resolve(null);\n",
              "    };\n",
              "  });\n",
              "\n",
              "  // Wait for the user to pick the files.\n",
              "  const files = yield {\n",
              "    promise: Promise.race([pickedPromise, cancelPromise]),\n",
              "    response: {\n",
              "      action: 'starting',\n",
              "    }\n",
              "  };\n",
              "\n",
              "  cancel.remove();\n",
              "\n",
              "  // Disable the input element since further picks are not allowed.\n",
              "  inputElement.disabled = true;\n",
              "\n",
              "  if (!files) {\n",
              "    return {\n",
              "      response: {\n",
              "        action: 'complete',\n",
              "      }\n",
              "    };\n",
              "  }\n",
              "\n",
              "  for (const file of files) {\n",
              "    const li = document.createElement('li');\n",
              "    li.append(span(file.name, {fontWeight: 'bold'}));\n",
              "    li.append(span(\n",
              "        `(${file.type || 'n/a'}) - ${file.size} bytes, ` +\n",
              "        `last modified: ${\n",
              "            file.lastModifiedDate ? file.lastModifiedDate.toLocaleDateString() :\n",
              "                                    'n/a'} - `));\n",
              "    const percent = span('0% done');\n",
              "    li.appendChild(percent);\n",
              "\n",
              "    outputElement.appendChild(li);\n",
              "\n",
              "    const fileDataPromise = new Promise((resolve) => {\n",
              "      const reader = new FileReader();\n",
              "      reader.onload = (e) => {\n",
              "        resolve(e.target.result);\n",
              "      };\n",
              "      reader.readAsArrayBuffer(file);\n",
              "    });\n",
              "    // Wait for the data to be ready.\n",
              "    let fileData = yield {\n",
              "      promise: fileDataPromise,\n",
              "      response: {\n",
              "        action: 'continue',\n",
              "      }\n",
              "    };\n",
              "\n",
              "    // Use a chunked sending to avoid message size limits. See b/62115660.\n",
              "    let position = 0;\n",
              "    do {\n",
              "      const length = Math.min(fileData.byteLength - position, MAX_PAYLOAD_SIZE);\n",
              "      const chunk = new Uint8Array(fileData, position, length);\n",
              "      position += length;\n",
              "\n",
              "      const base64 = btoa(String.fromCharCode.apply(null, chunk));\n",
              "      yield {\n",
              "        response: {\n",
              "          action: 'append',\n",
              "          file: file.name,\n",
              "          data: base64,\n",
              "        },\n",
              "      };\n",
              "\n",
              "      let percentDone = fileData.byteLength === 0 ?\n",
              "          100 :\n",
              "          Math.round((position / fileData.byteLength) * 100);\n",
              "      percent.textContent = `${percentDone}% done`;\n",
              "\n",
              "    } while (position < fileData.byteLength);\n",
              "  }\n",
              "\n",
              "  // All done.\n",
              "  yield {\n",
              "    response: {\n",
              "      action: 'complete',\n",
              "    }\n",
              "  };\n",
              "}\n",
              "\n",
              "scope.google = scope.google || {};\n",
              "scope.google.colab = scope.google.colab || {};\n",
              "scope.google.colab._files = {\n",
              "  _uploadFiles,\n",
              "  _uploadFilesContinue,\n",
              "};\n",
              "})(self);\n",
              "</script> "
            ]
          },
          "metadata": {}
        },
        {
          "output_type": "stream",
          "name": "stdout",
          "text": [
            "Saving test.csv to test.csv\n"
          ]
        },
        {
          "output_type": "display_data",
          "data": {
            "text/plain": [
              "<IPython.core.display.HTML object>"
            ],
            "text/html": [
              "\n",
              "     <input type=\"file\" id=\"files-602308d0-d814-471e-a901-db38fd8d1d05\" name=\"files[]\" multiple disabled\n",
              "        style=\"border:none\" />\n",
              "     <output id=\"result-602308d0-d814-471e-a901-db38fd8d1d05\">\n",
              "      Upload widget is only available when the cell has been executed in the\n",
              "      current browser session. Please rerun this cell to enable.\n",
              "      </output>\n",
              "      <script>// Copyright 2017 Google LLC\n",
              "//\n",
              "// Licensed under the Apache License, Version 2.0 (the \"License\");\n",
              "// you may not use this file except in compliance with the License.\n",
              "// You may obtain a copy of the License at\n",
              "//\n",
              "//      http://www.apache.org/licenses/LICENSE-2.0\n",
              "//\n",
              "// Unless required by applicable law or agreed to in writing, software\n",
              "// distributed under the License is distributed on an \"AS IS\" BASIS,\n",
              "// WITHOUT WARRANTIES OR CONDITIONS OF ANY KIND, either express or implied.\n",
              "// See the License for the specific language governing permissions and\n",
              "// limitations under the License.\n",
              "\n",
              "/**\n",
              " * @fileoverview Helpers for google.colab Python module.\n",
              " */\n",
              "(function(scope) {\n",
              "function span(text, styleAttributes = {}) {\n",
              "  const element = document.createElement('span');\n",
              "  element.textContent = text;\n",
              "  for (const key of Object.keys(styleAttributes)) {\n",
              "    element.style[key] = styleAttributes[key];\n",
              "  }\n",
              "  return element;\n",
              "}\n",
              "\n",
              "// Max number of bytes which will be uploaded at a time.\n",
              "const MAX_PAYLOAD_SIZE = 100 * 1024;\n",
              "\n",
              "function _uploadFiles(inputId, outputId) {\n",
              "  const steps = uploadFilesStep(inputId, outputId);\n",
              "  const outputElement = document.getElementById(outputId);\n",
              "  // Cache steps on the outputElement to make it available for the next call\n",
              "  // to uploadFilesContinue from Python.\n",
              "  outputElement.steps = steps;\n",
              "\n",
              "  return _uploadFilesContinue(outputId);\n",
              "}\n",
              "\n",
              "// This is roughly an async generator (not supported in the browser yet),\n",
              "// where there are multiple asynchronous steps and the Python side is going\n",
              "// to poll for completion of each step.\n",
              "// This uses a Promise to block the python side on completion of each step,\n",
              "// then passes the result of the previous step as the input to the next step.\n",
              "function _uploadFilesContinue(outputId) {\n",
              "  const outputElement = document.getElementById(outputId);\n",
              "  const steps = outputElement.steps;\n",
              "\n",
              "  const next = steps.next(outputElement.lastPromiseValue);\n",
              "  return Promise.resolve(next.value.promise).then((value) => {\n",
              "    // Cache the last promise value to make it available to the next\n",
              "    // step of the generator.\n",
              "    outputElement.lastPromiseValue = value;\n",
              "    return next.value.response;\n",
              "  });\n",
              "}\n",
              "\n",
              "/**\n",
              " * Generator function which is called between each async step of the upload\n",
              " * process.\n",
              " * @param {string} inputId Element ID of the input file picker element.\n",
              " * @param {string} outputId Element ID of the output display.\n",
              " * @return {!Iterable<!Object>} Iterable of next steps.\n",
              " */\n",
              "function* uploadFilesStep(inputId, outputId) {\n",
              "  const inputElement = document.getElementById(inputId);\n",
              "  inputElement.disabled = false;\n",
              "\n",
              "  const outputElement = document.getElementById(outputId);\n",
              "  outputElement.innerHTML = '';\n",
              "\n",
              "  const pickedPromise = new Promise((resolve) => {\n",
              "    inputElement.addEventListener('change', (e) => {\n",
              "      resolve(e.target.files);\n",
              "    });\n",
              "  });\n",
              "\n",
              "  const cancel = document.createElement('button');\n",
              "  inputElement.parentElement.appendChild(cancel);\n",
              "  cancel.textContent = 'Cancel upload';\n",
              "  const cancelPromise = new Promise((resolve) => {\n",
              "    cancel.onclick = () => {\n",
              "      resolve(null);\n",
              "    };\n",
              "  });\n",
              "\n",
              "  // Wait for the user to pick the files.\n",
              "  const files = yield {\n",
              "    promise: Promise.race([pickedPromise, cancelPromise]),\n",
              "    response: {\n",
              "      action: 'starting',\n",
              "    }\n",
              "  };\n",
              "\n",
              "  cancel.remove();\n",
              "\n",
              "  // Disable the input element since further picks are not allowed.\n",
              "  inputElement.disabled = true;\n",
              "\n",
              "  if (!files) {\n",
              "    return {\n",
              "      response: {\n",
              "        action: 'complete',\n",
              "      }\n",
              "    };\n",
              "  }\n",
              "\n",
              "  for (const file of files) {\n",
              "    const li = document.createElement('li');\n",
              "    li.append(span(file.name, {fontWeight: 'bold'}));\n",
              "    li.append(span(\n",
              "        `(${file.type || 'n/a'}) - ${file.size} bytes, ` +\n",
              "        `last modified: ${\n",
              "            file.lastModifiedDate ? file.lastModifiedDate.toLocaleDateString() :\n",
              "                                    'n/a'} - `));\n",
              "    const percent = span('0% done');\n",
              "    li.appendChild(percent);\n",
              "\n",
              "    outputElement.appendChild(li);\n",
              "\n",
              "    const fileDataPromise = new Promise((resolve) => {\n",
              "      const reader = new FileReader();\n",
              "      reader.onload = (e) => {\n",
              "        resolve(e.target.result);\n",
              "      };\n",
              "      reader.readAsArrayBuffer(file);\n",
              "    });\n",
              "    // Wait for the data to be ready.\n",
              "    let fileData = yield {\n",
              "      promise: fileDataPromise,\n",
              "      response: {\n",
              "        action: 'continue',\n",
              "      }\n",
              "    };\n",
              "\n",
              "    // Use a chunked sending to avoid message size limits. See b/62115660.\n",
              "    let position = 0;\n",
              "    do {\n",
              "      const length = Math.min(fileData.byteLength - position, MAX_PAYLOAD_SIZE);\n",
              "      const chunk = new Uint8Array(fileData, position, length);\n",
              "      position += length;\n",
              "\n",
              "      const base64 = btoa(String.fromCharCode.apply(null, chunk));\n",
              "      yield {\n",
              "        response: {\n",
              "          action: 'append',\n",
              "          file: file.name,\n",
              "          data: base64,\n",
              "        },\n",
              "      };\n",
              "\n",
              "      let percentDone = fileData.byteLength === 0 ?\n",
              "          100 :\n",
              "          Math.round((position / fileData.byteLength) * 100);\n",
              "      percent.textContent = `${percentDone}% done`;\n",
              "\n",
              "    } while (position < fileData.byteLength);\n",
              "  }\n",
              "\n",
              "  // All done.\n",
              "  yield {\n",
              "    response: {\n",
              "      action: 'complete',\n",
              "    }\n",
              "  };\n",
              "}\n",
              "\n",
              "scope.google = scope.google || {};\n",
              "scope.google.colab = scope.google.colab || {};\n",
              "scope.google.colab._files = {\n",
              "  _uploadFiles,\n",
              "  _uploadFilesContinue,\n",
              "};\n",
              "})(self);\n",
              "</script> "
            ]
          },
          "metadata": {}
        },
        {
          "output_type": "stream",
          "name": "stdout",
          "text": [
            "Saving sample_submission.csv to sample_submission.csv\n"
          ]
        }
      ],
      "source": [
        "from numpy import testing\n",
        "import io\n",
        "import pandas as pd\n",
        "import seaborn as sns\n",
        "import matplotlib.pyplot as plt\n",
        "\n",
        "from google.colab import files\n",
        "\n",
        "\n",
        "uploaded = files.upload()\n",
        "train = pd.read_csv(io.BytesIO(uploaded[\"train.csv\"]))\n",
        "uploaded = files.upload()\n",
        "test= pd.read_csv(io.BytesIO(uploaded[\"test.csv\"]))\n",
        "uploaded = files.upload()\n",
        "sample_submission = pd.read_csv(io.BytesIO(uploaded[\"sample_submission.csv\"]))"
      ]
    },
    {
      "cell_type": "code",
      "execution_count": 2,
      "metadata": {
        "colab": {
          "base_uri": "https://localhost:8080/"
        },
        "id": "Q6eqozDN2zY7",
        "outputId": "0861627c-1b71-40a0-df24-6fa4f8b0fbee"
      },
      "outputs": [
        {
          "output_type": "execute_result",
          "data": {
            "text/plain": [
              "(3911, 8)"
            ]
          },
          "metadata": {},
          "execution_count": 2
        }
      ],
      "source": [
        "train.shape"
      ]
    },
    {
      "cell_type": "code",
      "execution_count": 3,
      "metadata": {
        "colab": {
          "base_uri": "https://localhost:8080/"
        },
        "id": "d5123Vpd4JjS",
        "outputId": "10255c3e-33c9-4ca9-9686-dc87afaeab7e"
      },
      "outputs": [
        {
          "output_type": "execute_result",
          "data": {
            "text/plain": [
              "(3, 2)"
            ]
          },
          "metadata": {},
          "execution_count": 3
        }
      ],
      "source": [
        "test.shape"
      ]
    },
    {
      "cell_type": "code",
      "execution_count": 4,
      "metadata": {
        "colab": {
          "base_uri": "https://localhost:8080/"
        },
        "id": "8_qmAWdP4LQY",
        "outputId": "8aeb2de2-cf65-4c6e-8396-722f869c6080"
      },
      "outputs": [
        {
          "output_type": "execute_result",
          "data": {
            "text/plain": [
              "(3, 7)"
            ]
          },
          "metadata": {},
          "execution_count": 4
        }
      ],
      "source": [
        "sample_submission.shape"
      ]
    },
    {
      "cell_type": "code",
      "execution_count": 5,
      "metadata": {
        "colab": {
          "base_uri": "https://localhost:8080/"
        },
        "id": "f-RCy9Xm4csv",
        "outputId": "346924f1-3bc3-40e2-fd46-07f9843e1e63"
      },
      "outputs": [
        {
          "output_type": "execute_result",
          "data": {
            "text/plain": [
              "text_id        0\n",
              "full_text      0\n",
              "cohesion       0\n",
              "syntax         0\n",
              "vocabulary     0\n",
              "phraseology    0\n",
              "grammar        0\n",
              "conventions    0\n",
              "dtype: int64"
            ]
          },
          "metadata": {},
          "execution_count": 5
        }
      ],
      "source": [
        "train.isna().sum()"
      ]
    },
    {
      "cell_type": "code",
      "execution_count": 6,
      "metadata": {
        "colab": {
          "base_uri": "https://localhost:8080/"
        },
        "id": "uOQvy1Ax5MtL",
        "outputId": "177d60be-c359-450e-e35d-eb1aa747e0f2"
      },
      "outputs": [
        {
          "output_type": "execute_result",
          "data": {
            "text/plain": [
              "text_id      0\n",
              "full_text    0\n",
              "dtype: int64"
            ]
          },
          "metadata": {},
          "execution_count": 6
        }
      ],
      "source": [
        "test.isna().sum()"
      ]
    },
    {
      "cell_type": "code",
      "execution_count": 7,
      "metadata": {
        "colab": {
          "base_uri": "https://localhost:8080/"
        },
        "id": "3LSXlpn25RL0",
        "outputId": "b31061bd-7067-4011-cf59-307bb465b139"
      },
      "outputs": [
        {
          "output_type": "execute_result",
          "data": {
            "text/plain": [
              "text_id        0\n",
              "cohesion       0\n",
              "syntax         0\n",
              "vocabulary     0\n",
              "phraseology    0\n",
              "grammar        0\n",
              "conventions    0\n",
              "dtype: int64"
            ]
          },
          "metadata": {},
          "execution_count": 7
        }
      ],
      "source": [
        "sample_submission.isna().sum()"
      ]
    },
    {
      "cell_type": "code",
      "execution_count": 8,
      "metadata": {
        "colab": {
          "base_uri": "https://localhost:8080/",
          "height": 157
        },
        "id": "uWzN9kLL2-ek",
        "outputId": "6537f4c9-77ee-4638-c27d-01a2bb6e6bff"
      },
      "outputs": [
        {
          "output_type": "execute_result",
          "data": {
            "text/plain": [
              "\"I think that students would benefit from learning at home,because they wont have to change and get up early in the morning to shower and do there hair. taking only classes helps them because at there house they'll be pay more attention. they will be comfortable at home.\\n\\nThe hardest part of school is getting ready. you wake up go brush your teeth and go to your closet and look at your cloths. after you think you picked a outfit u go look in the mirror and youll either not like it or you look and see a stain. Then you'll have to change. with the online classes you can wear anything and stay home and you wont need to stress about what to wear.\\n\\nmost students usually take showers before school. they either take it before they sleep or when they wake up. some students do both to smell good. that causes them do miss the bus and effects on there lesson time cause they come late to school. when u have online classes u wont need to miss lessons cause you can get everything set up and go take a shower and when u get out your ready to go.\\n\\nwhen your home your comfortable and you pay attention. it gives then an advantage to be smarter and even pass there classmates on class work. public schools are difficult even if you try. some teacher dont know how to teach it in then way that students understand it. that causes students to fail and they may repeat the class.              \""
            ],
            "application/vnd.google.colaboratory.intrinsic+json": {
              "type": "string"
            }
          },
          "metadata": {},
          "execution_count": 8
        }
      ],
      "source": [
        "train[\"full_text\"][0]"
      ]
    },
    {
      "cell_type": "code",
      "execution_count": 9,
      "metadata": {
        "id": "_6t5b7c_2-ek"
      },
      "outputs": [],
      "source": [
        "import re\n",
        "\n",
        "clean_train = train.copy()\n",
        "clean_test = test.copy()\n",
        "clean_train['full_text'] = train[\"full_text\"].replace(re.compile(r'(\\\\n)|[\\n\\r\\t]'), '', regex=True)\n",
        "clean_test['full_text'] = test[\"full_text\"].replace(re.compile(r'(\\\\n)|[\\n\\r\\t]'), '', regex=True)"
      ]
    },
    {
      "cell_type": "code",
      "execution_count": 10,
      "metadata": {
        "colab": {
          "base_uri": "https://localhost:8080/",
          "height": 157
        },
        "id": "t_r1Ana62-el",
        "outputId": "62e37b3b-dee7-48f1-f86a-5369e42fd1f4"
      },
      "outputs": [
        {
          "output_type": "execute_result",
          "data": {
            "text/plain": [
              "\"I think that students would benefit from learning at home,because they wont have to change and get up early in the morning to shower and do there hair. taking only classes helps them because at there house they'll be pay more attention. they will be comfortable at home.The hardest part of school is getting ready. you wake up go brush your teeth and go to your closet and look at your cloths. after you think you picked a outfit u go look in the mirror and youll either not like it or you look and see a stain. Then you'll have to change. with the online classes you can wear anything and stay home and you wont need to stress about what to wear.most students usually take showers before school. they either take it before they sleep or when they wake up. some students do both to smell good. that causes them do miss the bus and effects on there lesson time cause they come late to school. when u have online classes u wont need to miss lessons cause you can get everything set up and go take a shower and when u get out your ready to go.when your home your comfortable and you pay attention. it gives then an advantage to be smarter and even pass there classmates on class work. public schools are difficult even if you try. some teacher dont know how to teach it in then way that students understand it. that causes students to fail and they may repeat the class.              \""
            ],
            "application/vnd.google.colaboratory.intrinsic+json": {
              "type": "string"
            }
          },
          "metadata": {},
          "execution_count": 10
        }
      ],
      "source": [
        "clean_train[\"full_text\"][0]"
      ]
    },
    {
      "cell_type": "code",
      "execution_count": 11,
      "metadata": {
        "colab": {
          "base_uri": "https://localhost:8080/",
          "height": 237
        },
        "id": "ifW-OyUI5aLz",
        "outputId": "8aa15f1c-08b5-4e22-edaa-85d7ee671381"
      },
      "outputs": [
        {
          "output_type": "execute_result",
          "data": {
            "text/plain": [
              "              count      mean       std  min  25%  50%  75%  max\n",
              "cohesion     3911.0  3.127077  0.662542  1.0  2.5  3.0  3.5  5.0\n",
              "syntax       3911.0  3.028254  0.644399  1.0  2.5  3.0  3.5  5.0\n",
              "vocabulary   3911.0  3.235745  0.583148  1.0  3.0  3.0  3.5  5.0\n",
              "phraseology  3911.0  3.116850  0.655997  1.0  2.5  3.0  3.5  5.0\n",
              "grammar      3911.0  3.032856  0.699841  1.0  2.5  3.0  3.5  5.0\n",
              "conventions  3911.0  3.081053  0.671450  1.0  2.5  3.0  3.5  5.0"
            ],
            "text/html": [
              "\n",
              "  <div id=\"df-cd09e11e-28c9-41d2-baa3-50639a23c16b\">\n",
              "    <div class=\"colab-df-container\">\n",
              "      <div>\n",
              "<style scoped>\n",
              "    .dataframe tbody tr th:only-of-type {\n",
              "        vertical-align: middle;\n",
              "    }\n",
              "\n",
              "    .dataframe tbody tr th {\n",
              "        vertical-align: top;\n",
              "    }\n",
              "\n",
              "    .dataframe thead th {\n",
              "        text-align: right;\n",
              "    }\n",
              "</style>\n",
              "<table border=\"1\" class=\"dataframe\">\n",
              "  <thead>\n",
              "    <tr style=\"text-align: right;\">\n",
              "      <th></th>\n",
              "      <th>count</th>\n",
              "      <th>mean</th>\n",
              "      <th>std</th>\n",
              "      <th>min</th>\n",
              "      <th>25%</th>\n",
              "      <th>50%</th>\n",
              "      <th>75%</th>\n",
              "      <th>max</th>\n",
              "    </tr>\n",
              "  </thead>\n",
              "  <tbody>\n",
              "    <tr>\n",
              "      <th>cohesion</th>\n",
              "      <td>3911.0</td>\n",
              "      <td>3.127077</td>\n",
              "      <td>0.662542</td>\n",
              "      <td>1.0</td>\n",
              "      <td>2.5</td>\n",
              "      <td>3.0</td>\n",
              "      <td>3.5</td>\n",
              "      <td>5.0</td>\n",
              "    </tr>\n",
              "    <tr>\n",
              "      <th>syntax</th>\n",
              "      <td>3911.0</td>\n",
              "      <td>3.028254</td>\n",
              "      <td>0.644399</td>\n",
              "      <td>1.0</td>\n",
              "      <td>2.5</td>\n",
              "      <td>3.0</td>\n",
              "      <td>3.5</td>\n",
              "      <td>5.0</td>\n",
              "    </tr>\n",
              "    <tr>\n",
              "      <th>vocabulary</th>\n",
              "      <td>3911.0</td>\n",
              "      <td>3.235745</td>\n",
              "      <td>0.583148</td>\n",
              "      <td>1.0</td>\n",
              "      <td>3.0</td>\n",
              "      <td>3.0</td>\n",
              "      <td>3.5</td>\n",
              "      <td>5.0</td>\n",
              "    </tr>\n",
              "    <tr>\n",
              "      <th>phraseology</th>\n",
              "      <td>3911.0</td>\n",
              "      <td>3.116850</td>\n",
              "      <td>0.655997</td>\n",
              "      <td>1.0</td>\n",
              "      <td>2.5</td>\n",
              "      <td>3.0</td>\n",
              "      <td>3.5</td>\n",
              "      <td>5.0</td>\n",
              "    </tr>\n",
              "    <tr>\n",
              "      <th>grammar</th>\n",
              "      <td>3911.0</td>\n",
              "      <td>3.032856</td>\n",
              "      <td>0.699841</td>\n",
              "      <td>1.0</td>\n",
              "      <td>2.5</td>\n",
              "      <td>3.0</td>\n",
              "      <td>3.5</td>\n",
              "      <td>5.0</td>\n",
              "    </tr>\n",
              "    <tr>\n",
              "      <th>conventions</th>\n",
              "      <td>3911.0</td>\n",
              "      <td>3.081053</td>\n",
              "      <td>0.671450</td>\n",
              "      <td>1.0</td>\n",
              "      <td>2.5</td>\n",
              "      <td>3.0</td>\n",
              "      <td>3.5</td>\n",
              "      <td>5.0</td>\n",
              "    </tr>\n",
              "  </tbody>\n",
              "</table>\n",
              "</div>\n",
              "      <button class=\"colab-df-convert\" onclick=\"convertToInteractive('df-cd09e11e-28c9-41d2-baa3-50639a23c16b')\"\n",
              "              title=\"Convert this dataframe to an interactive table.\"\n",
              "              style=\"display:none;\">\n",
              "        \n",
              "  <svg xmlns=\"http://www.w3.org/2000/svg\" height=\"24px\"viewBox=\"0 0 24 24\"\n",
              "       width=\"24px\">\n",
              "    <path d=\"M0 0h24v24H0V0z\" fill=\"none\"/>\n",
              "    <path d=\"M18.56 5.44l.94 2.06.94-2.06 2.06-.94-2.06-.94-.94-2.06-.94 2.06-2.06.94zm-11 1L8.5 8.5l.94-2.06 2.06-.94-2.06-.94L8.5 2.5l-.94 2.06-2.06.94zm10 10l.94 2.06.94-2.06 2.06-.94-2.06-.94-.94-2.06-.94 2.06-2.06.94z\"/><path d=\"M17.41 7.96l-1.37-1.37c-.4-.4-.92-.59-1.43-.59-.52 0-1.04.2-1.43.59L10.3 9.45l-7.72 7.72c-.78.78-.78 2.05 0 2.83L4 21.41c.39.39.9.59 1.41.59.51 0 1.02-.2 1.41-.59l7.78-7.78 2.81-2.81c.8-.78.8-2.07 0-2.86zM5.41 20L4 18.59l7.72-7.72 1.47 1.35L5.41 20z\"/>\n",
              "  </svg>\n",
              "      </button>\n",
              "      \n",
              "  <style>\n",
              "    .colab-df-container {\n",
              "      display:flex;\n",
              "      flex-wrap:wrap;\n",
              "      gap: 12px;\n",
              "    }\n",
              "\n",
              "    .colab-df-convert {\n",
              "      background-color: #E8F0FE;\n",
              "      border: none;\n",
              "      border-radius: 50%;\n",
              "      cursor: pointer;\n",
              "      display: none;\n",
              "      fill: #1967D2;\n",
              "      height: 32px;\n",
              "      padding: 0 0 0 0;\n",
              "      width: 32px;\n",
              "    }\n",
              "\n",
              "    .colab-df-convert:hover {\n",
              "      background-color: #E2EBFA;\n",
              "      box-shadow: 0px 1px 2px rgba(60, 64, 67, 0.3), 0px 1px 3px 1px rgba(60, 64, 67, 0.15);\n",
              "      fill: #174EA6;\n",
              "    }\n",
              "\n",
              "    [theme=dark] .colab-df-convert {\n",
              "      background-color: #3B4455;\n",
              "      fill: #D2E3FC;\n",
              "    }\n",
              "\n",
              "    [theme=dark] .colab-df-convert:hover {\n",
              "      background-color: #434B5C;\n",
              "      box-shadow: 0px 1px 3px 1px rgba(0, 0, 0, 0.15);\n",
              "      filter: drop-shadow(0px 1px 2px rgba(0, 0, 0, 0.3));\n",
              "      fill: #FFFFFF;\n",
              "    }\n",
              "  </style>\n",
              "\n",
              "      <script>\n",
              "        const buttonEl =\n",
              "          document.querySelector('#df-cd09e11e-28c9-41d2-baa3-50639a23c16b button.colab-df-convert');\n",
              "        buttonEl.style.display =\n",
              "          google.colab.kernel.accessAllowed ? 'block' : 'none';\n",
              "\n",
              "        async function convertToInteractive(key) {\n",
              "          const element = document.querySelector('#df-cd09e11e-28c9-41d2-baa3-50639a23c16b');\n",
              "          const dataTable =\n",
              "            await google.colab.kernel.invokeFunction('convertToInteractive',\n",
              "                                                     [key], {});\n",
              "          if (!dataTable) return;\n",
              "\n",
              "          const docLinkHtml = 'Like what you see? Visit the ' +\n",
              "            '<a target=\"_blank\" href=https://colab.research.google.com/notebooks/data_table.ipynb>data table notebook</a>'\n",
              "            + ' to learn more about interactive tables.';\n",
              "          element.innerHTML = '';\n",
              "          dataTable['output_type'] = 'display_data';\n",
              "          await google.colab.output.renderOutput(dataTable, element);\n",
              "          const docLink = document.createElement('div');\n",
              "          docLink.innerHTML = docLinkHtml;\n",
              "          element.appendChild(docLink);\n",
              "        }\n",
              "      </script>\n",
              "    </div>\n",
              "  </div>\n",
              "  "
            ]
          },
          "metadata": {},
          "execution_count": 11
        }
      ],
      "source": [
        "train.describe().T"
      ]
    },
    {
      "cell_type": "code",
      "execution_count": 12,
      "metadata": {
        "colab": {
          "base_uri": "https://localhost:8080/",
          "height": 282
        },
        "id": "WLAcMGqG6tpz",
        "outputId": "9dc300c8-2ee0-4e48-fe62-64c8cfae20cd"
      },
      "outputs": [
        {
          "output_type": "execute_result",
          "data": {
            "text/plain": [
              "<matplotlib.axes._subplots.AxesSubplot at 0x7f3a1d6e3a50>"
            ]
          },
          "metadata": {},
          "execution_count": 12
        },
        {
          "output_type": "display_data",
          "data": {
            "text/plain": [
              "<Figure size 432x288 with 1 Axes>"
            ],
            "image/png": "[encoded data removed]"
          },
          "metadata": {
            "needs_background": "light"
          }
        }
      ],
      "source": [
        "train.plot.kde()"
      ]
    },
    {
      "cell_type": "code",
      "execution_count": 13,
      "metadata": {
        "id": "2aeAU5e77l1a"
      },
      "outputs": [],
      "source": [
        "train['ncaracteres'] = train['full_text'].str.len()\n",
        "promedio_caract = round(train['ncaracteres'].mean())\n",
        "max_caract = round(train['ncaracteres'].max())"
      ]
    },
    {
      "cell_type": "code",
      "execution_count": 14,
      "metadata": {
        "colab": {
          "base_uri": "https://localhost:8080/",
          "height": 351
        },
        "id": "ZBdu4p4w_xMo",
        "outputId": "ed4dea4c-e13d-4cc4-ba13-7313af31a0db"
      },
      "outputs": [
        {
          "output_type": "stream",
          "name": "stderr",
          "text": [
            "/usr/local/lib/python3.7/dist-packages/seaborn/distributions.py:2619: FutureWarning: `distplot` is a deprecated function and will be removed in a future version. Please adapt your code to use either `displot` (a figure-level function with similar flexibility) or `histplot` (an axes-level function for histograms).\n",
            "  warnings.warn(msg, FutureWarning)\n"
          ]
        },
        {
          "output_type": "execute_result",
          "data": {
            "text/plain": [
              "<matplotlib.lines.Line2D at 0x7f3a1d592ed0>"
            ]
          },
          "metadata": {},
          "execution_count": 14
        },
        {
          "output_type": "display_data",
          "data": {
            "text/plain": [
              "<Figure size 432x288 with 1 Axes>"
            ],
            "image/png": "[encoded data removed]"
          },
          "metadata": {
            "needs_background": "light"
          }
        }
      ],
      "source": [
        "sns.distplot(train['ncaracteres'])\n",
        "plt.axvline(x = promedio_caract, color = 'red')"
      ]
    },
    {
      "cell_type": "code",
      "execution_count": 15,
      "metadata": {
        "id": "PKwdlgCO-Dcy"
      },
      "outputs": [],
      "source": [
        "train['npalabra'] = train['full_text'].apply(lambda x: len(x.split()))\n",
        "promedio_pala = round(train['npalabra'].mean())\n",
        "max_pala = round(train['npalabra'].max())"
      ]
    },
    {
      "cell_type": "code",
      "execution_count": 16,
      "metadata": {
        "colab": {
          "base_uri": "https://localhost:8080/",
          "height": 353
        },
        "id": "mhlJ25ov8VG3",
        "outputId": "03f0033b-eddd-493f-955c-d7dd8f696f94"
      },
      "outputs": [
        {
          "output_type": "stream",
          "name": "stderr",
          "text": [
            "/usr/local/lib/python3.7/dist-packages/seaborn/distributions.py:2619: FutureWarning: `distplot` is a deprecated function and will be removed in a future version. Please adapt your code to use either `displot` (a figure-level function with similar flexibility) or `histplot` (an axes-level function for histograms).\n",
            "  warnings.warn(msg, FutureWarning)\n"
          ]
        },
        {
          "output_type": "execute_result",
          "data": {
            "text/plain": [
              "<matplotlib.lines.Line2D at 0x7f3a1d006c50>"
            ]
          },
          "metadata": {},
          "execution_count": 16
        },
        {
          "output_type": "display_data",
          "data": {
            "text/plain": [
              "<Figure size 432x288 with 1 Axes>"
            ],
            "image/png": "[encoded data removed]"
          },
          "metadata": {
            "needs_background": "light"
          }
        }
      ],
      "source": [
        "sns.distplot(train['npalabra'])\n",
        "plt.axvline(x = promedio_pala, color = 'red')"
      ]
    },
    {
      "cell_type": "markdown",
      "metadata": {
        "id": "Xp976b2K2-en"
      },
      "source": [
        "Removing Stopwords and Punctuation"
      ]
    },
    {
      "cell_type": "code",
      "execution_count": 17,
      "metadata": {
        "colab": {
          "base_uri": "https://localhost:8080/",
          "height": 206
        },
        "id": "O8oWthqI2-eo",
        "outputId": "346357e3-265c-4c3a-fb09-6f5454a39d76"
      },
      "outputs": [
        {
          "output_type": "execute_result",
          "data": {
            "text/plain": [
              "        text_id                                          full_text  cohesion  \\\n",
              "0  0016926B079C  think students benefit learning home wo nt cha...       3.5   \n",
              "1  0022683E9EA5  problem change let best matter happening chang...       2.5   \n",
              "2  00299B378633  Dear PrincipalIf u change school policy having...       3.0   \n",
              "3  003885A45F42  best time life agree greatest accomplishment w...       4.5   \n",
              "4  0049B1DF5CCC  Small act kindness impact people change people...       2.5   \n",
              "\n",
              "   syntax  vocabulary  phraseology  grammar  conventions  \n",
              "0     3.5         3.0          3.0      4.0          3.0  \n",
              "1     2.5         3.0          2.0      2.0          2.5  \n",
              "2     3.5         3.0          3.0      3.0          2.5  \n",
              "3     4.5         4.5          4.5      4.0          5.0  \n",
              "4     3.0         3.0          3.0      2.5          2.5  "
            ],
            "text/html": [
              "\n",
              "  <div id=\"df-798b39e4-cd79-4d49-86f9-b0dba50b6429\">\n",
              "    <div class=\"colab-df-container\">\n",
              "      <div>\n",
              "<style scoped>\n",
              "    .dataframe tbody tr th:only-of-type {\n",
              "        vertical-align: middle;\n",
              "    }\n",
              "\n",
              "    .dataframe tbody tr th {\n",
              "        vertical-align: top;\n",
              "    }\n",
              "\n",
              "    .dataframe thead th {\n",
              "        text-align: right;\n",
              "    }\n",
              "</style>\n",
              "<table border=\"1\" class=\"dataframe\">\n",
              "  <thead>\n",
              "    <tr style=\"text-align: right;\">\n",
              "      <th></th>\n",
              "      <th>text_id</th>\n",
              "      <th>full_text</th>\n",
              "      <th>cohesion</th>\n",
              "      <th>syntax</th>\n",
              "      <th>vocabulary</th>\n",
              "      <th>phraseology</th>\n",
              "      <th>grammar</th>\n",
              "      <th>conventions</th>\n",
              "    </tr>\n",
              "  </thead>\n",
              "  <tbody>\n",
              "    <tr>\n",
              "      <th>0</th>\n",
              "      <td>0016926B079C</td>\n",
              "      <td>think students benefit learning home wo nt cha...</td>\n",
              "      <td>3.5</td>\n",
              "      <td>3.5</td>\n",
              "      <td>3.0</td>\n",
              "      <td>3.0</td>\n",
              "      <td>4.0</td>\n",
              "      <td>3.0</td>\n",
              "    </tr>\n",
              "    <tr>\n",
              "      <th>1</th>\n",
              "      <td>0022683E9EA5</td>\n",
              "      <td>problem change let best matter happening chang...</td>\n",
              "      <td>2.5</td>\n",
              "      <td>2.5</td>\n",
              "      <td>3.0</td>\n",
              "      <td>2.0</td>\n",
              "      <td>2.0</td>\n",
              "      <td>2.5</td>\n",
              "    </tr>\n",
              "    <tr>\n",
              "      <th>2</th>\n",
              "      <td>00299B378633</td>\n",
              "      <td>Dear PrincipalIf u change school policy having...</td>\n",
              "      <td>3.0</td>\n",
              "      <td>3.5</td>\n",
              "      <td>3.0</td>\n",
              "      <td>3.0</td>\n",
              "      <td>3.0</td>\n",
              "      <td>2.5</td>\n",
              "    </tr>\n",
              "    <tr>\n",
              "      <th>3</th>\n",
              "      <td>003885A45F42</td>\n",
              "      <td>best time life agree greatest accomplishment w...</td>\n",
              "      <td>4.5</td>\n",
              "      <td>4.5</td>\n",
              "      <td>4.5</td>\n",
              "      <td>4.5</td>\n",
              "      <td>4.0</td>\n",
              "      <td>5.0</td>\n",
              "    </tr>\n",
              "    <tr>\n",
              "      <th>4</th>\n",
              "      <td>0049B1DF5CCC</td>\n",
              "      <td>Small act kindness impact people change people...</td>\n",
              "      <td>2.5</td>\n",
              "      <td>3.0</td>\n",
              "      <td>3.0</td>\n",
              "      <td>3.0</td>\n",
              "      <td>2.5</td>\n",
              "      <td>2.5</td>\n",
              "    </tr>\n",
              "  </tbody>\n",
              "</table>\n",
              "</div>\n",
              "      <button class=\"colab-df-convert\" onclick=\"convertToInteractive('df-798b39e4-cd79-4d49-86f9-b0dba50b6429')\"\n",
              "              title=\"Convert this dataframe to an interactive table.\"\n",
              "              style=\"display:none;\">\n",
              "        \n",
              "  <svg xmlns=\"http://www.w3.org/2000/svg\" height=\"24px\"viewBox=\"0 0 24 24\"\n",
              "       width=\"24px\">\n",
              "    <path d=\"M0 0h24v24H0V0z\" fill=\"none\"/>\n",
              "    <path d=\"M18.56 5.44l.94 2.06.94-2.06 2.06-.94-2.06-.94-.94-2.06-.94 2.06-2.06.94zm-11 1L8.5 8.5l.94-2.06 2.06-.94-2.06-.94L8.5 2.5l-.94 2.06-2.06.94zm10 10l.94 2.06.94-2.06 2.06-.94-2.06-.94-.94-2.06-.94 2.06-2.06.94z\"/><path d=\"M17.41 7.96l-1.37-1.37c-.4-.4-.92-.59-1.43-.59-.52 0-1.04.2-1.43.59L10.3 9.45l-7.72 7.72c-.78.78-.78 2.05 0 2.83L4 21.41c.39.39.9.59 1.41.59.51 0 1.02-.2 1.41-.59l7.78-7.78 2.81-2.81c.8-.78.8-2.07 0-2.86zM5.41 20L4 18.59l7.72-7.72 1.47 1.35L5.41 20z\"/>\n",
              "  </svg>\n",
              "      </button>\n",
              "      \n",
              "  <style>\n",
              "    .colab-df-container {\n",
              "      display:flex;\n",
              "      flex-wrap:wrap;\n",
              "      gap: 12px;\n",
              "    }\n",
              "\n",
              "    .colab-df-convert {\n",
              "      background-color: #E8F0FE;\n",
              "      border: none;\n",
              "      border-radius: 50%;\n",
              "      cursor: pointer;\n",
              "      display: none;\n",
              "      fill: #1967D2;\n",
              "      height: 32px;\n",
              "      padding: 0 0 0 0;\n",
              "      width: 32px;\n",
              "    }\n",
              "\n",
              "    .colab-df-convert:hover {\n",
              "      background-color: #E2EBFA;\n",
              "      box-shadow: 0px 1px 2px rgba(60, 64, 67, 0.3), 0px 1px 3px 1px rgba(60, 64, 67, 0.15);\n",
              "      fill: #174EA6;\n",
              "    }\n",
              "\n",
              "    [theme=dark] .colab-df-convert {\n",
              "      background-color: #3B4455;\n",
              "      fill: #D2E3FC;\n",
              "    }\n",
              "\n",
              "    [theme=dark] .colab-df-convert:hover {\n",
              "      background-color: #434B5C;\n",
              "      box-shadow: 0px 1px 3px 1px rgba(0, 0, 0, 0.15);\n",
              "      filter: drop-shadow(0px 1px 2px rgba(0, 0, 0, 0.3));\n",
              "      fill: #FFFFFF;\n",
              "    }\n",
              "  </style>\n",
              "\n",
              "      <script>\n",
              "        const buttonEl =\n",
              "          document.querySelector('#df-798b39e4-cd79-4d49-86f9-b0dba50b6429 button.colab-df-convert');\n",
              "        buttonEl.style.display =\n",
              "          google.colab.kernel.accessAllowed ? 'block' : 'none';\n",
              "\n",
              "        async function convertToInteractive(key) {\n",
              "          const element = document.querySelector('#df-798b39e4-cd79-4d49-86f9-b0dba50b6429');\n",
              "          const dataTable =\n",
              "            await google.colab.kernel.invokeFunction('convertToInteractive',\n",
              "                                                     [key], {});\n",
              "          if (!dataTable) return;\n",
              "\n",
              "          const docLinkHtml = 'Like what you see? Visit the ' +\n",
              "            '<a target=\"_blank\" href=https://colab.research.google.com/notebooks/data_table.ipynb>data table notebook</a>'\n",
              "            + ' to learn more about interactive tables.';\n",
              "          element.innerHTML = '';\n",
              "          dataTable['output_type'] = 'display_data';\n",
              "          await google.colab.output.renderOutput(dataTable, element);\n",
              "          const docLink = document.createElement('div');\n",
              "          docLink.innerHTML = docLinkHtml;\n",
              "          element.appendChild(docLink);\n",
              "        }\n",
              "      </script>\n",
              "    </div>\n",
              "  </div>\n",
              "  "
            ]
          },
          "metadata": {},
          "execution_count": 17
        }
      ],
      "source": [
        "import spacy\n",
        "nlp = spacy.load('en_core_web_sm')\n",
        "def remove_swp(text):\n",
        "    text_nlp = nlp(text)\n",
        "    filtered_text= [token for token in text_nlp if not token.is_stop]\n",
        "    filtered_text=[token.text for token in filtered_text if not token.is_punct]\n",
        "    filtered_text = \" \".join(filtered_text)\n",
        "    return filtered_text\n",
        "\n",
        "clean_train[\"full_text\"] = clean_train[\"full_text\"].apply(remove_swp)\n",
        "clean_train.head()"
      ]
    },
    {
      "cell_type": "code",
      "execution_count": 18,
      "metadata": {
        "colab": {
          "base_uri": "https://localhost:8080/"
        },
        "id": "BqJO1Gf_2-eo",
        "outputId": "7fa663a7-d6ca-445f-db3c-fec6b1ee4a90"
      },
      "outputs": [
        {
          "output_type": "stream",
          "name": "stdout",
          "text": [
            "[[   0    0    0 ...  139 1535   27]\n",
            " [   0    0    0 ...  117    2   12]\n",
            " [   0    0    0 ...   75  165  103]\n",
            " ...\n",
            " [   0    0    0 ...   97 1364  755]\n",
            " [   0    0    0 ...    2  783 1426]\n",
            " [   0    0    0 ...   16 1265 1359]]\n"
          ]
        }
      ],
      "source": [
        "import tensorflow as tf\n",
        "from tensorflow.keras.preprocessing.text import Tokenizer\n",
        "from tensorflow.keras.preprocessing.sequence import pad_sequences\n",
        "\n",
        "#max_palabras = train[\"npalabra\"].max()\n",
        "tokenizer = Tokenizer(oov_token=\"<OOV>\")\n",
        "\n",
        "tokenizer.fit_on_texts(clean_train['full_text'])\n",
        "\n",
        "secuencia_train = tokenizer.texts_to_sequences(clean_train['full_text'])\n",
        "rellenos_train = pad_sequences(secuencia_train, maxlen=max_pala, truncating='post')\n",
        "\n",
        "index_palabras = tokenizer.word_index\n",
        "\n",
        "print(rellenos_train)\n"
      ]
    },
    {
      "cell_type": "code",
      "execution_count": 19,
      "metadata": {
        "id": "8LWWRxtp2-ep"
      },
      "outputs": [],
      "source": [
        "X_train = rellenos_train\n",
        "y = [train['cohesion'].values, train['syntax'].values, train['vocabulary'].values,\n",
        "      train['phraseology'].values, train['grammar'].values, train['conventions'].values]\n"
      ]
    },
    {
      "cell_type": "code",
      "execution_count": 32,
      "metadata": {
        "id": "aHPvctGf2-ep"
      },
      "outputs": [],
      "source": [
        "def modelo_lstm_definido():\n",
        "\n",
        "    cuenta_index_palabras = len(index_palabras)\n",
        "\n",
        "    inputs = tf.keras.layers.Input(shape=(max_pala))\n",
        "    embeddings = tf.keras.layers.Embedding(cuenta_index_palabras + 1, 512, input_length=max_pala)(inputs)\n",
        "\n",
        "    Bidilayers = tf.keras.layers.Bidirectional(tf.keras.layers.LSTM(512, return_sequences=True))(embeddings)\n",
        "    Bidilayers = tf.keras.layers.Bidirectional(tf.keras.layers.LSTM(128, return_sequences=True))(Bidilayers)\n",
        "    Bidilayers = tf.keras.layers.Bidirectional(tf.keras.layers.LSTM(128, return_sequences=True))(Bidilayers)\n",
        "    Bidilayers = tf.keras.layers.Bidirectional(tf.keras.layers.LSTM(64))(Bidilayers)\n",
        "    \n",
        "    \n",
        "\n",
        "    cohesion = tf.keras.layers.Dense(128, activation='relu', kernel_initializer=tf.keras.initializers.random_normal, \n",
        "                                    bias_initializer='zeros')(Bidilayers)\n",
        "                                    # kernel_regularizer=tf.keras.regularizers.L1L2(l1=1e-5, l2=1e-4), \n",
        "                                    # bias_regularizer=tf.keras.regularizers.L2(1e-4), \n",
        "                                    # activity_regularizer=tf.keras.regularizers.L2(1e-5))(x)\n",
        "    # cohesion = tf.keras.layers.Dropout(0.4)(cohesion)\n",
        "    # cohesion = tf.keras.layers.Dense(64, activation='relu', kernel_initializer=tf.keras.initializers.random_normal, \n",
        "    #                                 bias_initializer='zeros')\n",
        "                                    # kernel_regularizer=tf.keras.regularizers.L1L2(l1=1e-5, l2=1e-4), \n",
        "                                    # bias_regularizer=tf.keras.regularizers.L2(1e-4), \n",
        "                                    # activity_regularizer=tf.keras.regularizers.L2(1e-5))(cohesion)\n",
        "    cohesion = tf.keras.layers.Dropout(0.4)(cohesion)\n",
        "    cohesion = tf.keras.layers.Dense(1, activation='relu', name='cohesion')(cohesion)\n",
        "    \n",
        "    syntax = tf.keras.layers.Dense(128, activation='relu', kernel_initializer=tf.keras.initializers.random_normal, \n",
        "                                    bias_initializer='zeros')(Bidilayers)\n",
        "                                    # kernel_regularizer=tf.keras.regularizers.L1L2(l1=1e-5, l2=1e-4), \n",
        "                                    # bias_regularizer=tf.keras.regularizers.L2(1e-4), \n",
        "                                    # activity_regularizer=tf.keras.regularizers.L2(1e-5))(x)\n",
        "    # syntax = tf.keras.layers.Dropout(0.4)(syntax)\n",
        "    # syntax = tf.keras.layers.Dense(64, activation='relu', kernel_initializer=tf.keras.initializers.random_normal, \n",
        "    #                                 bias_initializer='zeros')\n",
        "                                    # kernel_regularizer=tf.keras.regularizers.L1L2(l1=1e-5, l2=1e-4), \n",
        "                                    # bias_regularizer=tf.keras.regularizers.L2(1e-4), \n",
        "                                    # activity_regularizer=tf.keras.regularizers.L2(1e-5))(syntax)\n",
        "    syntax = tf.keras.layers.Dropout(0.4)(syntax)\n",
        "    syntax = tf.keras.layers.Dense(1, activation='relu', name='syntax')(syntax)\n",
        "    \n",
        "    vocabulary = tf.keras.layers.Dense(128, activation='relu', kernel_initializer=tf.keras.initializers.random_normal, \n",
        "                                    bias_initializer='zeros')(Bidilayers)\n",
        "                                    # kernel_regularizer=tf.keras.regularizers.L1L2(l1=1e-5, l2=1e-4), \n",
        "                                    # bias_regularizer=tf.keras.regularizers.L2(1e-4), \n",
        "                                    # activity_regularizer=tf.keras.regularizers.L2(1e-5))(x)\n",
        "    # vocabulary = tf.keras.layers.Dropout(0.4)(vocabulary)\n",
        "    # vocabulary = tf.keras.layers.Dense(64, activation='relu', kernel_initializer=tf.keras.initializers.random_normal, \n",
        "    #                                 bias_initializer='zeros')\n",
        "                                    # kernel_regularizer=tf.keras.regularizers.L1L2(l1=1e-5, l2=1e-4), \n",
        "                                    # bias_regularizer=tf.keras.regularizers.L2(1e-4), \n",
        "                                    # activity_regularizer=tf.keras.regularizers.L2(1e-5))(vocabulary)\n",
        "    vocabulary = tf.keras.layers.Dropout(0.4)(vocabulary)\n",
        "    vocabulary = tf.keras.layers.Dense(1, activation='relu', name='vocabulary')(vocabulary)\n",
        "    \n",
        "    phraseology = tf.keras.layers.Dense(128, activation='relu', kernel_initializer=tf.keras.initializers.random_normal, \n",
        "                                    bias_initializer='zeros')(Bidilayers)\n",
        "                                    # kernel_regularizer=tf.keras.regularizers.L1L2(l1=1e-5, l2=1e-4), \n",
        "                                    # bias_regularizer=tf.keras.regularizers.L2(1e-4), \n",
        "                                    # activity_regularizer=tf.keras.regularizers.L2(1e-5))(x)\n",
        "    # phraseology = tf.keras.layers.Dropout(0.4)(phraseology)\n",
        "    # phraseology = tf.keras.layers.Dense(64, activation='relu', kernel_initializer=tf.keras.initializers.random_normal, \n",
        "    #                                 bias_initializer='zeros')\n",
        "                                    # kernel_regularizer=tf.keras.regularizers.L1L2(l1=1e-5, l2=1e-4), \n",
        "                                    # bias_regularizer=tf.keras.regularizers.L2(1e-4), \n",
        "                                    # activity_regularizer=tf.keras.regularizers.L2(1e-5))(phraseology)\n",
        "    phraseology = tf.keras.layers.Dropout(0.4)(phraseology)\n",
        "    phraseology = tf.keras.layers.Dense(1, activation='relu', name='phraseology')(phraseology)\n",
        "    \n",
        "    grammar = tf.keras.layers.Dense(128, activation='relu', kernel_initializer=tf.keras.initializers.random_normal, \n",
        "                                    bias_initializer='zeros')(Bidilayers)\n",
        "                                    # kernel_regularizer=tf.keras.regularizers.L1L2(l1=1e-5, l2=1e-4), \n",
        "                                    # bias_regularizer=tf.keras.regularizers.L2(1e-4), \n",
        "                                    # activity_regularizer=tf.keras.regularizers.L2(1e-5))(x)\n",
        "    # grammar = tf.keras.layers.Dropout(0.4)(grammar)\n",
        "    # grammar = tf.keras.layers.Dense(64, activation='relu', kernel_initializer=tf.keras.initializers.random_normal, \n",
        "    #                                 bias_initializer='zeros')\n",
        "                                    # kernel_regularizer=tf.keras.regularizers.L1L2(l1=1e-5, l2=1e-4), \n",
        "                                    # bias_regularizer=tf.keras.regularizers.L2(1e-4), \n",
        "                                    # activity_regularizer=tf.keras.regularizers.L2(1e-5))(grammar)\n",
        "    grammar = tf.keras.layers.Dropout(0.4)(grammar)\n",
        "    grammar = tf.keras.layers.Dense(1, activation='relu', name='grammar')(grammar)  \n",
        "    \n",
        "    conventions = tf.keras.layers.Dense(128, activation='relu', kernel_initializer=tf.keras.initializers.random_normal, \n",
        "                                    bias_initializer='zeros')(Bidilayers)\n",
        "                                    # kernel_regularizer=tf.keras.regularizers.L1L2(l1=1e-5, l2=1e-4), \n",
        "                                    # bias_regularizer=tf.keras.regularizers.L2(1e-4), \n",
        "                                    # activity_regularizer=tf.keras.regularizers.L2(1e-5))(x)\n",
        "    # conventions = tf.keras.layers.Dropout(0.4)(conventions)\n",
        "    # conventions = tf.keras.layers.Dense(64, activation='relu', kernel_initializer=tf.keras.initializers.random_normal, \n",
        "    #                                 bias_initializer='zeros')\n",
        "                                    # kernel_regularizer=tf.keras.regularizers.L1L2(l1=1e-5, l2=1e-4), \n",
        "                                    # bias_regularizer=tf.keras.regularizers.L2(1e-4), \n",
        "                                    # activity_regularizer=tf.keras.regularizers.L2(1e-5))(conventions)\n",
        "    conventions = tf.keras.layers.Dropout(0.4)(conventions)\n",
        "    conventions = tf.keras.layers.Dense(1, activation='relu', name='conventions')(conventions)\n",
        "    \n",
        "    model = tf.keras.models.Model(inputs=inputs, outputs=[cohesion, syntax, vocabulary, phraseology, grammar, conventions])\n",
        "    \n",
        "    model.compile(\n",
        "        optimizer=tf.keras.optimizers.Adam(),\n",
        "        loss = tf.keras.losses.mean_squared_error\n",
        "    )\n",
        "    \n",
        "    return model"
      ]
    },
    {
      "cell_type": "code",
      "execution_count": 33,
      "metadata": {
        "id": "VRPPzl3T2-eq"
      },
      "outputs": [],
      "source": [
        "modelo = modelo_lstm_definido()"
      ]
    },
    {
      "cell_type": "code",
      "execution_count": 34,
      "metadata": {
        "colab": {
          "base_uri": "https://localhost:8080/"
        },
        "id": "KfdxdRYg2-eq",
        "outputId": "20fdbb6b-6f33-4023-badd-e57dd8daa1f7"
      },
      "outputs": [
        {
          "output_type": "stream",
          "name": "stdout",
          "text": [
            "Model: \"model_1\"\n",
            "__________________________________________________________________________________________________\n",
            " Layer (type)                   Output Shape         Param #     Connected to                     \n",
            "==================================================================================================\n",
            " input_2 (InputLayer)           [(None, 1260)]       0           []                               \n",
            "                                                                                                  \n",
            " embedding_1 (Embedding)        (None, 1260, 512)    11390976    ['input_2[0][0]']                \n",
            "                                                                                                  \n",
            " bidirectional_4 (Bidirectional  (None, 1260, 1024)  4198400     ['embedding_1[0][0]']            \n",
            " )                                                                                                \n",
            "                                                                                                  \n",
            " bidirectional_5 (Bidirectional  (None, 1260, 256)   1180672     ['bidirectional_4[0][0]']        \n",
            " )                                                                                                \n",
            "                                                                                                  \n",
            " bidirectional_6 (Bidirectional  (None, 1260, 256)   394240      ['bidirectional_5[0][0]']        \n",
            " )                                                                                                \n",
            "                                                                                                  \n",
            " bidirectional_7 (Bidirectional  (None, 128)         164352      ['bidirectional_6[0][0]']        \n",
            " )                                                                                                \n",
            "                                                                                                  \n",
            " dense_6 (Dense)                (None, 128)          16512       ['bidirectional_7[0][0]']        \n",
            "                                                                                                  \n",
            " dense_7 (Dense)                (None, 128)          16512       ['bidirectional_7[0][0]']        \n",
            "                                                                                                  \n",
            " dense_8 (Dense)                (None, 128)          16512       ['bidirectional_7[0][0]']        \n",
            "                                                                                                  \n",
            " dense_9 (Dense)                (None, 128)          16512       ['bidirectional_7[0][0]']        \n",
            "                                                                                                  \n",
            " dense_10 (Dense)               (None, 128)          16512       ['bidirectional_7[0][0]']        \n",
            "                                                                                                  \n",
            " dense_11 (Dense)               (None, 128)          16512       ['bidirectional_7[0][0]']        \n",
            "                                                                                                  \n",
            " dropout_6 (Dropout)            (None, 128)          0           ['dense_6[0][0]']                \n",
            "                                                                                                  \n",
            " dropout_7 (Dropout)            (None, 128)          0           ['dense_7[0][0]']                \n",
            "                                                                                                  \n",
            " dropout_8 (Dropout)            (None, 128)          0           ['dense_8[0][0]']                \n",
            "                                                                                                  \n",
            " dropout_9 (Dropout)            (None, 128)          0           ['dense_9[0][0]']                \n",
            "                                                                                                  \n",
            " dropout_10 (Dropout)           (None, 128)          0           ['dense_10[0][0]']               \n",
            "                                                                                                  \n",
            " dropout_11 (Dropout)           (None, 128)          0           ['dense_11[0][0]']               \n",
            "                                                                                                  \n",
            " cohesion (Dense)               (None, 1)            129         ['dropout_6[0][0]']              \n",
            "                                                                                                  \n",
            " syntax (Dense)                 (None, 1)            129         ['dropout_7[0][0]']              \n",
            "                                                                                                  \n",
            " vocabulary (Dense)             (None, 1)            129         ['dropout_8[0][0]']              \n",
            "                                                                                                  \n",
            " phraseology (Dense)            (None, 1)            129         ['dropout_9[0][0]']              \n",
            "                                                                                                  \n",
            " grammar (Dense)                (None, 1)            129         ['dropout_10[0][0]']             \n",
            "                                                                                                  \n",
            " conventions (Dense)            (None, 1)            129         ['dropout_11[0][0]']             \n",
            "                                                                                                  \n",
            "==================================================================================================\n",
            "Total params: 17,428,486\n",
            "Trainable params: 17,428,486\n",
            "Non-trainable params: 0\n",
            "__________________________________________________________________________________________________\n"
          ]
        }
      ],
      "source": [
        "modelo.summary()"
      ]
    },
    {
      "cell_type": "code",
      "execution_count": 35,
      "metadata": {
        "colab": {
          "base_uri": "https://localhost:8080/",
          "height": 546
        },
        "id": "eRf25rs_2-er",
        "outputId": "70fea739-31df-4c27-e547-13147ecd05f8"
      },
      "outputs": [
        {
          "output_type": "execute_result",
          "data": {
            "image/png": "[encoded data removed]",
            "text/plain": [
              "<IPython.core.display.Image object>"
            ]
          },
          "metadata": {},
          "execution_count": 35
        }
      ],
      "source": [
        "tf.keras.utils.plot_model(modelo, show_shapes=True, show_layer_names=True, to_file=\"modelstm.png\")"
      ]
    },
    {
      "cell_type": "code",
      "execution_count": 38,
      "metadata": {
        "id": "0oPr9U4A2-er"
      },
      "outputs": [],
      "source": [
        "\n",
        "#Direcciones y constantes de callbacks\n",
        "WORKSPACE_FOLDER_PATH = \"\"\n",
        "OUTPUT_FOLDER_NAME = \"Outputs\"\n",
        "STOPPING_PATIENCE = 2  # Epochs\n",
        "LR_PATIENCE = 4  # Epochs\n",
        "MODEL_NAME = \"modelo\"\n"
      ]
    },
    {
      "cell_type": "code",
      "execution_count": 39,
      "metadata": {
        "id": "JxvaEALI2-er"
      },
      "outputs": [],
      "source": [
        "def create_callbacks(output_folder_path, model_name, stopping_patience, lr_patience):\n",
        "  \n",
        "  from keras.callbacks import CSVLogger, EarlyStopping, ModelCheckpoint, ReduceLROnPlateau, os\n",
        "  csv_logger = CSVLogger(os.path.join(output_folder_path, f\"training_sequences_{model_name}.csv\"))\n",
        "  early_stopping = EarlyStopping(patience=stopping_patience, verbose=1, restore_best_weights=True)\n",
        "  model_checkpoint = ModelCheckpoint(os.path.join(output_folder_path, f\"best_{model_name}.hdf5\"),\n",
        "    verbose=1,\n",
        "    save_best_only=True\n",
        "  )\n",
        "  reduce_lr = ReduceLROnPlateau(factor=0.5, patience=lr_patience, min_lr=0.05)\n",
        "\n",
        "  return [csv_logger, early_stopping, model_checkpoint, reduce_lr]\n",
        "\n",
        "callbacks = create_callbacks(\n",
        "  os.path.join(WORKSPACE_FOLDER_PATH, OUTPUT_FOLDER_NAME),\n",
        "  MODEL_NAME,\n",
        "  STOPPING_PATIENCE,\n",
        "  LR_PATIENCE\n",
        ")"
      ]
    },
    {
      "cell_type": "code",
      "execution_count": 40,
      "metadata": {
        "colab": {
          "base_uri": "https://localhost:8080/"
        },
        "id": "wbF5hAoY2-es",
        "outputId": "2e0f6855-6452-4b27-f0d2-c95250899aff"
      },
      "outputs": [
        {
          "output_type": "stream",
          "name": "stdout",
          "text": [
            "Epoch 1/10\n",
            "98/98 [==============================] - ETA: 0s - loss: 6.3960 - cohesion_loss: 1.1984 - syntax_loss: 1.0166 - vocabulary_loss: 0.9756 - phraseology_loss: 1.0521 - grammar_loss: 1.0553 - conventions_loss: 1.0980\n",
            "Epoch 1: val_loss improved from inf to 2.56881, saving model to Outputs/best_modelo.hdf5\n",
            "98/98 [==============================] - 94s 826ms/step - loss: 6.3960 - cohesion_loss: 1.1984 - syntax_loss: 1.0166 - vocabulary_loss: 0.9756 - phraseology_loss: 1.0521 - grammar_loss: 1.0553 - conventions_loss: 1.0980 - val_loss: 2.5688 - val_cohesion_loss: 0.4655 - val_syntax_loss: 0.4057 - val_vocabulary_loss: 0.3388 - val_phraseology_loss: 0.4131 - val_grammar_loss: 0.5109 - val_conventions_loss: 0.4347 - lr: 0.0010\n",
            "Epoch 2/10\n",
            "98/98 [==============================] - ETA: 0s - loss: 3.5791 - cohesion_loss: 0.6328 - syntax_loss: 0.5528 - vocabulary_loss: 0.5105 - phraseology_loss: 0.6000 - grammar_loss: 0.6421 - conventions_loss: 0.6409\n",
            "Epoch 2: val_loss did not improve from 2.56881\n",
            "98/98 [==============================] - 77s 784ms/step - loss: 3.5791 - cohesion_loss: 0.6328 - syntax_loss: 0.5528 - vocabulary_loss: 0.5105 - phraseology_loss: 0.6000 - grammar_loss: 0.6421 - conventions_loss: 0.6409 - val_loss: 2.6957 - val_cohesion_loss: 0.4683 - val_syntax_loss: 0.4434 - val_vocabulary_loss: 0.3653 - val_phraseology_loss: 0.4130 - val_grammar_loss: 0.5478 - val_conventions_loss: 0.4579 - lr: 0.0010\n",
            "Epoch 3/10\n",
            "98/98 [==============================] - ETA: 0s - loss: 3.5062 - cohesion_loss: 0.5990 - syntax_loss: 0.5645 - vocabulary_loss: 0.5142 - phraseology_loss: 0.5946 - grammar_loss: 0.6285 - conventions_loss: 0.6053\n",
            "Epoch 3: val_loss improved from 2.56881 to 2.51053, saving model to Outputs/best_modelo.hdf5\n",
            "98/98 [==============================] - 79s 804ms/step - loss: 3.5062 - cohesion_loss: 0.5990 - syntax_loss: 0.5645 - vocabulary_loss: 0.5142 - phraseology_loss: 0.5946 - grammar_loss: 0.6285 - conventions_loss: 0.6053 - val_loss: 2.5105 - val_cohesion_loss: 0.4445 - val_syntax_loss: 0.4067 - val_vocabulary_loss: 0.3299 - val_phraseology_loss: 0.4077 - val_grammar_loss: 0.4937 - val_conventions_loss: 0.4282 - lr: 0.0010\n",
            "Epoch 4/10\n",
            "98/98 [==============================] - ETA: 0s - loss: 3.4481 - cohesion_loss: 0.5924 - syntax_loss: 0.5501 - vocabulary_loss: 0.5003 - phraseology_loss: 0.5938 - grammar_loss: 0.6067 - conventions_loss: 0.6048\n",
            "Epoch 4: val_loss did not improve from 2.51053\n",
            "98/98 [==============================] - 77s 790ms/step - loss: 3.4481 - cohesion_loss: 0.5924 - syntax_loss: 0.5501 - vocabulary_loss: 0.5003 - phraseology_loss: 0.5938 - grammar_loss: 0.6067 - conventions_loss: 0.6048 - val_loss: 2.5655 - val_cohesion_loss: 0.4431 - val_syntax_loss: 0.4078 - val_vocabulary_loss: 0.3491 - val_phraseology_loss: 0.4290 - val_grammar_loss: 0.4964 - val_conventions_loss: 0.4400 - lr: 0.0010\n",
            "Epoch 5/10\n",
            "98/98 [==============================] - ETA: 0s - loss: 3.4837 - cohesion_loss: 0.6046 - syntax_loss: 0.5774 - vocabulary_loss: 0.4965 - phraseology_loss: 0.5629 - grammar_loss: 0.6195 - conventions_loss: 0.6229Restoring model weights from the end of the best epoch: 3.\n",
            "\n",
            "Epoch 5: val_loss did not improve from 2.51053\n",
            "98/98 [==============================] - 77s 784ms/step - loss: 3.4837 - cohesion_loss: 0.6046 - syntax_loss: 0.5774 - vocabulary_loss: 0.4965 - phraseology_loss: 0.5629 - grammar_loss: 0.6195 - conventions_loss: 0.6229 - val_loss: 2.5540 - val_cohesion_loss: 0.4454 - val_syntax_loss: 0.4253 - val_vocabulary_loss: 0.3309 - val_phraseology_loss: 0.4095 - val_grammar_loss: 0.5006 - val_conventions_loss: 0.4423 - lr: 0.0010\n",
            "Epoch 5: early stopping\n"
          ]
        }
      ],
      "source": [
        "historia = modelo.fit(X_train, y, epochs=10,  shuffle=True, validation_split=0.2, verbose=1, callbacks = callbacks)"
      ]
    },
    {
      "cell_type": "code",
      "source": [
        "import pickle\n",
        "\n",
        "with open('model_pkl', 'wb') as files:\n",
        "    pickle.dump(modelo, files)"
      ],
      "metadata": {
        "colab": {
          "base_uri": "https://localhost:8080/"
        },
        "id": "nEXMEZ_wGgmE",
        "outputId": "baac7abc-eed3-475d-e15c-0655ae05ee4c"
      },
      "execution_count": 41,
      "outputs": [
        {
          "output_type": "stream",
          "name": "stderr",
          "text": [
            "WARNING:absl:Found untraced functions such as lstm_cell_13_layer_call_fn, lstm_cell_13_layer_call_and_return_conditional_losses, lstm_cell_14_layer_call_fn, lstm_cell_14_layer_call_and_return_conditional_losses, lstm_cell_16_layer_call_fn while saving (showing 5 of 16). These functions will not be directly callable after loading.\n"
          ]
        }
      ]
    },
    {
      "cell_type": "code",
      "source": [
        "plt.plot(historia.history['loss'], label='loss')\n",
        "plt.plot(historia.history['val_loss'], label='val_loss')\n",
        "plt.xlabel('Epoch')\n",
        "plt.ylabel('Error [MSE]')\n",
        "plt.legend()\n",
        "plt.grid(True)"
      ],
      "metadata": {
        "colab": {
          "base_uri": "https://localhost:8080/",
          "height": 279
        },
        "id": "DtsKRdxoM98o",
        "outputId": "0faa5271-1787-42c5-d50d-5ae38afe147a"
      },
      "execution_count": 42,
      "outputs": [
        {
          "output_type": "display_data",
          "data": {
            "text/plain": [
              "<Figure size 432x288 with 1 Axes>"
            ],
            "image/png": "[encoded data removed]"
          },
          "metadata": {
            "needs_background": "light"
          }
        }
      ]
    },
    {
      "cell_type": "code",
      "source": [
        "modelo.save('lstm_model.h5')"
      ],
      "metadata": {
        "id": "GFALWvGpNpQf"
      },
      "execution_count": 43,
      "outputs": []
    },
    {
      "cell_type": "code",
      "source": [
        "test_seq = tokenizer.texts_to_sequences(clean_test['full_text'])\n",
        "pad_test = pad_sequences(test_seq, maxlen=max_pala, truncating='post')\n",
        "\n",
        "X_test = pad_test\n",
        "results = modelo.predict(X_test)\n",
        "lstm_submission = pd.DataFrame()\n",
        "lstm_submission['text_id'] = clean_test['text_id']\n",
        "for i in range(6):\n",
        "    lstm_submission[i] = pd.Series([float(x) for x in results[i]])\n",
        "lstm_submission.columns = clean_train.drop(columns=['full_text']).columns\n",
        "lstm_submission['text_id'] = clean_test['text_id']\n",
        "\n",
        "lstm_submission.head()"
      ],
      "metadata": {
        "colab": {
          "base_uri": "https://localhost:8080/",
          "height": 161
        },
        "id": "0jaIdBPCOIZX",
        "outputId": "5cf76629-8c23-44f3-88c7-0ecdea88a47c"
      },
      "execution_count": 46,
      "outputs": [
        {
          "output_type": "stream",
          "name": "stdout",
          "text": [
            "1/1 [==============================] - 0s 387ms/step\n"
          ]
        },
        {
          "output_type": "execute_result",
          "data": {
            "text/plain": [
              "        text_id  cohesion    syntax  vocabulary  phraseology   grammar  \\\n",
              "0  0000C359D63E  3.163812  2.945035    3.214523     3.091816  2.961098   \n",
              "1  000BAD50D026  3.163838  2.944865    3.214521     3.091801  2.961279   \n",
              "2  00367BB2546B  3.163745  2.945089    3.214517     3.091807  2.961031   \n",
              "\n",
              "   conventions  \n",
              "0     3.088573  \n",
              "1     3.088467  \n",
              "2     3.088581  "
            ],
            "text/html": [
              "\n",
              "  <div id=\"df-1f6efb56-90e2-4b57-b5ac-62e4c26be114\">\n",
              "    <div class=\"colab-df-container\">\n",
              "      <div>\n",
              "<style scoped>\n",
              "    .dataframe tbody tr th:only-of-type {\n",
              "        vertical-align: middle;\n",
              "    }\n",
              "\n",
              "    .dataframe tbody tr th {\n",
              "        vertical-align: top;\n",
              "    }\n",
              "\n",
              "    .dataframe thead th {\n",
              "        text-align: right;\n",
              "    }\n",
              "</style>\n",
              "<table border=\"1\" class=\"dataframe\">\n",
              "  <thead>\n",
              "    <tr style=\"text-align: right;\">\n",
              "      <th></th>\n",
              "      <th>text_id</th>\n",
              "      <th>cohesion</th>\n",
              "      <th>syntax</th>\n",
              "      <th>vocabulary</th>\n",
              "      <th>phraseology</th>\n",
              "      <th>grammar</th>\n",
              "      <th>conventions</th>\n",
              "    </tr>\n",
              "  </thead>\n",
              "  <tbody>\n",
              "    <tr>\n",
              "      <th>0</th>\n",
              "      <td>0000C359D63E</td>\n",
              "      <td>3.163812</td>\n",
              "      <td>2.945035</td>\n",
              "      <td>3.214523</td>\n",
              "      <td>3.091816</td>\n",
              "      <td>2.961098</td>\n",
              "      <td>3.088573</td>\n",
              "    </tr>\n",
              "    <tr>\n",
              "      <th>1</th>\n",
              "      <td>000BAD50D026</td>\n",
              "      <td>3.163838</td>\n",
              "      <td>2.944865</td>\n",
              "      <td>3.214521</td>\n",
              "      <td>3.091801</td>\n",
              "      <td>2.961279</td>\n",
              "      <td>3.088467</td>\n",
              "    </tr>\n",
              "    <tr>\n",
              "      <th>2</th>\n",
              "      <td>00367BB2546B</td>\n",
              "      <td>3.163745</td>\n",
              "      <td>2.945089</td>\n",
              "      <td>3.214517</td>\n",
              "      <td>3.091807</td>\n",
              "      <td>2.961031</td>\n",
              "      <td>3.088581</td>\n",
              "    </tr>\n",
              "  </tbody>\n",
              "</table>\n",
              "</div>\n",
              "      <button class=\"colab-df-convert\" onclick=\"convertToInteractive('df-1f6efb56-90e2-4b57-b5ac-62e4c26be114')\"\n",
              "              title=\"Convert this dataframe to an interactive table.\"\n",
              "              style=\"display:none;\">\n",
              "        \n",
              "  <svg xmlns=\"http://www.w3.org/2000/svg\" height=\"24px\"viewBox=\"0 0 24 24\"\n",
              "       width=\"24px\">\n",
              "    <path d=\"M0 0h24v24H0V0z\" fill=\"none\"/>\n",
              "    <path d=\"M18.56 5.44l.94 2.06.94-2.06 2.06-.94-2.06-.94-.94-2.06-.94 2.06-2.06.94zm-11 1L8.5 8.5l.94-2.06 2.06-.94-2.06-.94L8.5 2.5l-.94 2.06-2.06.94zm10 10l.94 2.06.94-2.06 2.06-.94-2.06-.94-.94-2.06-.94 2.06-2.06.94z\"/><path d=\"M17.41 7.96l-1.37-1.37c-.4-.4-.92-.59-1.43-.59-.52 0-1.04.2-1.43.59L10.3 9.45l-7.72 7.72c-.78.78-.78 2.05 0 2.83L4 21.41c.39.39.9.59 1.41.59.51 0 1.02-.2 1.41-.59l7.78-7.78 2.81-2.81c.8-.78.8-2.07 0-2.86zM5.41 20L4 18.59l7.72-7.72 1.47 1.35L5.41 20z\"/>\n",
              "  </svg>\n",
              "      </button>\n",
              "      \n",
              "  <style>\n",
              "    .colab-df-container {\n",
              "      display:flex;\n",
              "      flex-wrap:wrap;\n",
              "      gap: 12px;\n",
              "    }\n",
              "\n",
              "    .colab-df-convert {\n",
              "      background-color: #E8F0FE;\n",
              "      border: none;\n",
              "      border-radius: 50%;\n",
              "      cursor: pointer;\n",
              "      display: none;\n",
              "      fill: #1967D2;\n",
              "      height: 32px;\n",
              "      padding: 0 0 0 0;\n",
              "      width: 32px;\n",
              "    }\n",
              "\n",
              "    .colab-df-convert:hover {\n",
              "      background-color: #E2EBFA;\n",
              "      box-shadow: 0px 1px 2px rgba(60, 64, 67, 0.3), 0px 1px 3px 1px rgba(60, 64, 67, 0.15);\n",
              "      fill: #174EA6;\n",
              "    }\n",
              "\n",
              "    [theme=dark] .colab-df-convert {\n",
              "      background-color: #3B4455;\n",
              "      fill: #D2E3FC;\n",
              "    }\n",
              "\n",
              "    [theme=dark] .colab-df-convert:hover {\n",
              "      background-color: #434B5C;\n",
              "      box-shadow: 0px 1px 3px 1px rgba(0, 0, 0, 0.15);\n",
              "      filter: drop-shadow(0px 1px 2px rgba(0, 0, 0, 0.3));\n",
              "      fill: #FFFFFF;\n",
              "    }\n",
              "  </style>\n",
              "\n",
              "      <script>\n",
              "        const buttonEl =\n",
              "          document.querySelector('#df-1f6efb56-90e2-4b57-b5ac-62e4c26be114 button.colab-df-convert');\n",
              "        buttonEl.style.display =\n",
              "          google.colab.kernel.accessAllowed ? 'block' : 'none';\n",
              "\n",
              "        async function convertToInteractive(key) {\n",
              "          const element = document.querySelector('#df-1f6efb56-90e2-4b57-b5ac-62e4c26be114');\n",
              "          const dataTable =\n",
              "            await google.colab.kernel.invokeFunction('convertToInteractive',\n",
              "                                                     [key], {});\n",
              "          if (!dataTable) return;\n",
              "\n",
              "          const docLinkHtml = 'Like what you see? Visit the ' +\n",
              "            '<a target=\"_blank\" href=https://colab.research.google.com/notebooks/data_table.ipynb>data table notebook</a>'\n",
              "            + ' to learn more about interactive tables.';\n",
              "          element.innerHTML = '';\n",
              "          dataTable['output_type'] = 'display_data';\n",
              "          await google.colab.output.renderOutput(dataTable, element);\n",
              "          const docLink = document.createElement('div');\n",
              "          docLink.innerHTML = docLinkHtml;\n",
              "          element.appendChild(docLink);\n",
              "        }\n",
              "      </script>\n",
              "    </div>\n",
              "  </div>\n",
              "  "
            ]
          },
          "metadata": {},
          "execution_count": 46
        }
      ]
    },
    {
      "cell_type": "code",
      "source": [
        "lstm_submission.to_csv('submission.csv', index=False)"
      ],
      "metadata": {
        "id": "wYMT6aAOmETT"
      },
      "execution_count": null,
      "outputs": []
    }
  ],
  "metadata": {
    "colab": {
      "provenance": [],
      "collapsed_sections": [],
      "toc_visible": true,
      "include_colab_link": true
    },
    "kernelspec": {
      "display_name": "Python 3.10.1 64-bit",
      "language": "python",
      "name": "python3"
    },
    "language_info": {
      "codemirror_mode": {
        "name": "ipython",
        "version": 3
      },
      "file_extension": ".py",
      "mimetype": "text/x-python",
      "name": "python",
      "nbconvert_exporter": "python",
      "pygments_lexer": "ipython3",
      "version": "3.10.1"
    },
    "vscode": {
      "interpreter": {
        "hash": "9ff11eddca2130565582ee9be74229b77e25347cae9a637ef4e90e7e22141700"
      }
    },
    "accelerator": "GPU",
    "gpuClass": "standard"
  },
  "nbformat": 4,
  "nbformat_minor": 0
}