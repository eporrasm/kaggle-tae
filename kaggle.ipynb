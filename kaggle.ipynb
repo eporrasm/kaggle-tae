{
  "cells": [
    {
      "cell_type": "code",
      "execution_count": 9,
      "metadata": {
        "colab": {
          "base_uri": "https://localhost:8080/",
          "height": 73
        },
        "id": "GBp3yzmrxofT",
        "outputId": "c17d983e-2772-4273-e10e-aef07b283ae3"
      },
      "outputs": [],
      "source": [
        "import io\n",
        "import pandas as pd\n",
        "import seaborn as sns\n",
        "import matplotlib.pyplot as plt\n",
        "\n",
        "\n",
        "train = pd.read_csv(\"train.csv\")\n",
        "test = pd.read_csv(\"test.csv\")\n",
        "sample_submission = pd.read_csv(\"sample_submission.csv\")"
      ]
    },
    {
      "cell_type": "code",
      "execution_count": 10,
      "metadata": {
        "colab": {
          "base_uri": "https://localhost:8080/"
        },
        "id": "Q6eqozDN2zY7",
        "outputId": "798c924f-d7ff-4267-cb94-ab532b5e0720"
      },
      "outputs": [
        {
          "data": {
            "text/plain": [
              "(3911, 8)"
            ]
          },
          "execution_count": 10,
          "metadata": {},
          "output_type": "execute_result"
        }
      ],
      "source": [
        "train.shape"
      ]
    },
    {
      "cell_type": "code",
      "execution_count": 11,
      "metadata": {
        "colab": {
          "base_uri": "https://localhost:8080/"
        },
        "id": "d5123Vpd4JjS",
        "outputId": "58d559a7-22ae-44e3-aca9-8cbbece6f234"
      },
      "outputs": [
        {
          "data": {
            "text/plain": [
              "(3, 2)"
            ]
          },
          "execution_count": 11,
          "metadata": {},
          "output_type": "execute_result"
        }
      ],
      "source": [
        "test.shape"
      ]
    },
    {
      "cell_type": "code",
      "execution_count": 12,
      "metadata": {
        "colab": {
          "base_uri": "https://localhost:8080/"
        },
        "id": "8_qmAWdP4LQY",
        "outputId": "a34b924e-c84b-4bbe-9081-7b8fba221149"
      },
      "outputs": [
        {
          "data": {
            "text/plain": [
              "(3, 7)"
            ]
          },
          "execution_count": 12,
          "metadata": {},
          "output_type": "execute_result"
        }
      ],
      "source": [
        "sample_submission.shape"
      ]
    },
    {
      "cell_type": "code",
      "execution_count": 13,
      "metadata": {
        "colab": {
          "base_uri": "https://localhost:8080/"
        },
        "id": "f-RCy9Xm4csv",
        "outputId": "6ed125af-6787-4050-e377-8d012024ab2d"
      },
      "outputs": [
        {
          "data": {
            "text/plain": [
              "text_id        0\n",
              "full_text      0\n",
              "cohesion       0\n",
              "syntax         0\n",
              "vocabulary     0\n",
              "phraseology    0\n",
              "grammar        0\n",
              "conventions    0\n",
              "dtype: int64"
            ]
          },
          "execution_count": 13,
          "metadata": {},
          "output_type": "execute_result"
        }
      ],
      "source": [
        "train.isna().sum()"
      ]
    },
    {
      "cell_type": "code",
      "execution_count": 14,
      "metadata": {
        "colab": {
          "base_uri": "https://localhost:8080/"
        },
        "id": "uOQvy1Ax5MtL",
        "outputId": "24ab9653-a6a3-4b8c-8864-effbf5c0e72b"
      },
      "outputs": [
        {
          "data": {
            "text/plain": [
              "text_id      0\n",
              "full_text    0\n",
              "dtype: int64"
            ]
          },
          "execution_count": 14,
          "metadata": {},
          "output_type": "execute_result"
        }
      ],
      "source": [
        "test.isna().sum()"
      ]
    },
    {
      "cell_type": "code",
      "execution_count": 15,
      "metadata": {
        "colab": {
          "base_uri": "https://localhost:8080/"
        },
        "id": "3LSXlpn25RL0",
        "outputId": "e375f86e-0cb7-4308-897b-4b7a3a01eea9"
      },
      "outputs": [
        {
          "data": {
            "text/plain": [
              "text_id        0\n",
              "cohesion       0\n",
              "syntax         0\n",
              "vocabulary     0\n",
              "phraseology    0\n",
              "grammar        0\n",
              "conventions    0\n",
              "dtype: int64"
            ]
          },
          "execution_count": 15,
          "metadata": {},
          "output_type": "execute_result"
        }
      ],
      "source": [
        "sample_submission.isna().sum()"
      ]
    },
    {
      "cell_type": "code",
      "execution_count": 16,
      "metadata": {},
      "outputs": [
        {
          "data": {
            "text/plain": [
              "\"I think that students would benefit from learning at home,because they wont have to change and get up early in the morning to shower and do there hair. taking only classes helps them because at there house they'll be pay more attention. they will be comfortable at home.\\n\\nThe hardest part of school is getting ready. you wake up go brush your teeth and go to your closet and look at your cloths. after you think you picked a outfit u go look in the mirror and youll either not like it or you look and see a stain. Then you'll have to change. with the online classes you can wear anything and stay home and you wont need to stress about what to wear.\\n\\nmost students usually take showers before school. they either take it before they sleep or when they wake up. some students do both to smell good. that causes them do miss the bus and effects on there lesson time cause they come late to school. when u have online classes u wont need to miss lessons cause you can get everything set up and go take a shower and when u get out your ready to go.\\n\\nwhen your home your comfortable and you pay attention. it gives then an advantage to be smarter and even pass there classmates on class work. public schools are difficult even if you try. some teacher dont know how to teach it in then way that students understand it. that causes students to fail and they may repeat the class.              \""
            ]
          },
          "execution_count": 16,
          "metadata": {},
          "output_type": "execute_result"
        }
      ],
      "source": [
        "train[\"full_text\"][0]"
      ]
    },
    {
      "cell_type": "code",
      "execution_count": 17,
      "metadata": {},
      "outputs": [],
      "source": [
        "import re\n",
        "\n",
        "clean_train = train.copy()\n",
        "clean_test = test.copy()\n",
        "clean_train['full_text'] = train[\"full_text\"].replace(re.compile(r'(\\\\n)|[\\n\\r\\t]'), '', regex=True)\n",
        "clean_test['full_text'] = test[\"full_text\"].replace(re.compile(r'(\\\\n)|[\\n\\r\\t]'), '', regex=True)"
      ]
    },
    {
      "cell_type": "code",
      "execution_count": 18,
      "metadata": {},
      "outputs": [
        {
          "data": {
            "text/plain": [
              "\"I think that students would benefit from learning at home,because they wont have to change and get up early in the morning to shower and do there hair. taking only classes helps them because at there house they'll be pay more attention. they will be comfortable at home.The hardest part of school is getting ready. you wake up go brush your teeth and go to your closet and look at your cloths. after you think you picked a outfit u go look in the mirror and youll either not like it or you look and see a stain. Then you'll have to change. with the online classes you can wear anything and stay home and you wont need to stress about what to wear.most students usually take showers before school. they either take it before they sleep or when they wake up. some students do both to smell good. that causes them do miss the bus and effects on there lesson time cause they come late to school. when u have online classes u wont need to miss lessons cause you can get everything set up and go take a shower and when u get out your ready to go.when your home your comfortable and you pay attention. it gives then an advantage to be smarter and even pass there classmates on class work. public schools are difficult even if you try. some teacher dont know how to teach it in then way that students understand it. that causes students to fail and they may repeat the class.              \""
            ]
          },
          "execution_count": 18,
          "metadata": {},
          "output_type": "execute_result"
        }
      ],
      "source": [
        "clean_train[\"full_text\"][0]"
      ]
    },
    {
      "cell_type": "code",
      "execution_count": 19,
      "metadata": {
        "colab": {
          "base_uri": "https://localhost:8080/",
          "height": 238
        },
        "id": "ifW-OyUI5aLz",
        "outputId": "67310761-b501-41bc-f73a-d22e75d3a266"
      },
      "outputs": [
        {
          "data": {
            "text/html": [
              "<div>\n",
              "<style scoped>\n",
              "    .dataframe tbody tr th:only-of-type {\n",
              "        vertical-align: middle;\n",
              "    }\n",
              "\n",
              "    .dataframe tbody tr th {\n",
              "        vertical-align: top;\n",
              "    }\n",
              "\n",
              "    .dataframe thead th {\n",
              "        text-align: right;\n",
              "    }\n",
              "</style>\n",
              "<table border=\"1\" class=\"dataframe\">\n",
              "  <thead>\n",
              "    <tr style=\"text-align: right;\">\n",
              "      <th></th>\n",
              "      <th>count</th>\n",
              "      <th>mean</th>\n",
              "      <th>std</th>\n",
              "      <th>min</th>\n",
              "      <th>25%</th>\n",
              "      <th>50%</th>\n",
              "      <th>75%</th>\n",
              "      <th>max</th>\n",
              "    </tr>\n",
              "  </thead>\n",
              "  <tbody>\n",
              "    <tr>\n",
              "      <th>cohesion</th>\n",
              "      <td>3911.0</td>\n",
              "      <td>3.127077</td>\n",
              "      <td>0.662542</td>\n",
              "      <td>1.0</td>\n",
              "      <td>2.5</td>\n",
              "      <td>3.0</td>\n",
              "      <td>3.5</td>\n",
              "      <td>5.0</td>\n",
              "    </tr>\n",
              "    <tr>\n",
              "      <th>syntax</th>\n",
              "      <td>3911.0</td>\n",
              "      <td>3.028254</td>\n",
              "      <td>0.644399</td>\n",
              "      <td>1.0</td>\n",
              "      <td>2.5</td>\n",
              "      <td>3.0</td>\n",
              "      <td>3.5</td>\n",
              "      <td>5.0</td>\n",
              "    </tr>\n",
              "    <tr>\n",
              "      <th>vocabulary</th>\n",
              "      <td>3911.0</td>\n",
              "      <td>3.235745</td>\n",
              "      <td>0.583148</td>\n",
              "      <td>1.0</td>\n",
              "      <td>3.0</td>\n",
              "      <td>3.0</td>\n",
              "      <td>3.5</td>\n",
              "      <td>5.0</td>\n",
              "    </tr>\n",
              "    <tr>\n",
              "      <th>phraseology</th>\n",
              "      <td>3911.0</td>\n",
              "      <td>3.116850</td>\n",
              "      <td>0.655997</td>\n",
              "      <td>1.0</td>\n",
              "      <td>2.5</td>\n",
              "      <td>3.0</td>\n",
              "      <td>3.5</td>\n",
              "      <td>5.0</td>\n",
              "    </tr>\n",
              "    <tr>\n",
              "      <th>grammar</th>\n",
              "      <td>3911.0</td>\n",
              "      <td>3.032856</td>\n",
              "      <td>0.699841</td>\n",
              "      <td>1.0</td>\n",
              "      <td>2.5</td>\n",
              "      <td>3.0</td>\n",
              "      <td>3.5</td>\n",
              "      <td>5.0</td>\n",
              "    </tr>\n",
              "    <tr>\n",
              "      <th>conventions</th>\n",
              "      <td>3911.0</td>\n",
              "      <td>3.081053</td>\n",
              "      <td>0.671450</td>\n",
              "      <td>1.0</td>\n",
              "      <td>2.5</td>\n",
              "      <td>3.0</td>\n",
              "      <td>3.5</td>\n",
              "      <td>5.0</td>\n",
              "    </tr>\n",
              "  </tbody>\n",
              "</table>\n",
              "</div>"
            ],
            "text/plain": [
              "              count      mean       std  min  25%  50%  75%  max\n",
              "cohesion     3911.0  3.127077  0.662542  1.0  2.5  3.0  3.5  5.0\n",
              "syntax       3911.0  3.028254  0.644399  1.0  2.5  3.0  3.5  5.0\n",
              "vocabulary   3911.0  3.235745  0.583148  1.0  3.0  3.0  3.5  5.0\n",
              "phraseology  3911.0  3.116850  0.655997  1.0  2.5  3.0  3.5  5.0\n",
              "grammar      3911.0  3.032856  0.699841  1.0  2.5  3.0  3.5  5.0\n",
              "conventions  3911.0  3.081053  0.671450  1.0  2.5  3.0  3.5  5.0"
            ]
          },
          "execution_count": 19,
          "metadata": {},
          "output_type": "execute_result"
        }
      ],
      "source": [
        "train.describe().T"
      ]
    },
    {
      "cell_type": "code",
      "execution_count": 20,
      "metadata": {
        "colab": {
          "base_uri": "https://localhost:8080/",
          "height": 282
        },
        "id": "WLAcMGqG6tpz",
        "outputId": "e2b87b36-2f48-48c9-d0a5-dba20cbe2032"
      },
      "outputs": [
        {
          "data": {
            "text/plain": [
              "<AxesSubplot:ylabel='Density'>"
            ]
          },
          "execution_count": 20,
          "metadata": {},
          "output_type": "execute_result"
        },
        {
          "data": {
            "image/png": "[encoded data removed]",
            "text/plain": [
              "<Figure size 432x288 with 1 Axes>"
            ]
          },
          "metadata": {
            "needs_background": "light"
          },
          "output_type": "display_data"
        }
      ],
      "source": [
        "train.plot.kde()"
      ]
    },
    {
      "cell_type": "code",
      "execution_count": 21,
      "metadata": {
        "id": "2aeAU5e77l1a"
      },
      "outputs": [],
      "source": [
        "train['ncaracteres'] = train['full_text'].str.len()\n",
        "promedio_caract = round(train['ncaracteres'].mean())\n",
        "max_caract = round(train['ncaracteres'].max())"
      ]
    },
    {
      "cell_type": "code",
      "execution_count": 22,
      "metadata": {
        "colab": {
          "base_uri": "https://localhost:8080/",
          "height": 351
        },
        "id": "ZBdu4p4w_xMo",
        "outputId": "e185352d-9eca-4ceb-dc09-4706cf6636d7"
      },
      "outputs": [
        {
          "name": "stderr",
          "output_type": "stream",
          "text": [
            "c:\\Users\\Esteban\\AppData\\Local\\Programs\\Python\\Python310\\lib\\site-packages\\seaborn\\distributions.py:2619: FutureWarning: `distplot` is a deprecated function and will be removed in a future version. Please adapt your code to use either `displot` (a figure-level function with similar flexibility) or `histplot` (an axes-level function for histograms).\n",
            "  warnings.warn(msg, FutureWarning)\n"
          ]
        },
        {
          "data": {
            "text/plain": [
              "<matplotlib.lines.Line2D at 0x1cd471718a0>"
            ]
          },
          "execution_count": 22,
          "metadata": {},
          "output_type": "execute_result"
        },
        {
          "data": {
            "image/png": "[encoded data removed]",
            "text/plain": [
              "<Figure size 432x288 with 1 Axes>"
            ]
          },
          "metadata": {
            "needs_background": "light"
          },
          "output_type": "display_data"
        }
      ],
      "source": [
        "sns.distplot(train['ncaracteres'])\n",
        "plt.axvline(x = promedio_caract, color = 'red')"
      ]
    },
    {
      "cell_type": "code",
      "execution_count": 23,
      "metadata": {
        "id": "PKwdlgCO-Dcy"
      },
      "outputs": [],
      "source": [
        "train['npalabra'] = train['full_text'].apply(lambda x: len(x.split()))\n",
        "promedio_pala = round(train['npalabra'].mean())\n",
        "max_pala = round(train['npalabra'].max())"
      ]
    },
    {
      "cell_type": "code",
      "execution_count": 24,
      "metadata": {
        "colab": {
          "base_uri": "https://localhost:8080/",
          "height": 353
        },
        "id": "mhlJ25ov8VG3",
        "outputId": "62790b40-ad1b-4661-aa29-55386dbcd1cf"
      },
      "outputs": [
        {
          "name": "stderr",
          "output_type": "stream",
          "text": [
            "c:\\Users\\Esteban\\AppData\\Local\\Programs\\Python\\Python310\\lib\\site-packages\\seaborn\\distributions.py:2619: FutureWarning: `distplot` is a deprecated function and will be removed in a future version. Please adapt your code to use either `displot` (a figure-level function with similar flexibility) or `histplot` (an axes-level function for histograms).\n",
            "  warnings.warn(msg, FutureWarning)\n"
          ]
        },
        {
          "data": {
            "text/plain": [
              "<matplotlib.lines.Line2D at 0x1cd47173c40>"
            ]
          },
          "execution_count": 24,
          "metadata": {},
          "output_type": "execute_result"
        },
        {
          "data": {
            "image/png": "[encoded data removed]",
            "text/plain": [
              "<Figure size 432x288 with 1 Axes>"
            ]
          },
          "metadata": {
            "needs_background": "light"
          },
          "output_type": "display_data"
        }
      ],
      "source": [
        "sns.distplot(train['npalabra'])\n",
        "plt.axvline(x = promedio_pala, color = 'red')"
      ]
    },
    {
      "cell_type": "markdown",
      "metadata": {},
      "source": [
        "Removing Stopwords and Punctuation"
      ]
    },
    {
      "cell_type": "code",
      "execution_count": 25,
      "metadata": {},
      "outputs": [
        {
          "data": {
            "text/html": [
              "<div>\n",
              "<style scoped>\n",
              "    .dataframe tbody tr th:only-of-type {\n",
              "        vertical-align: middle;\n",
              "    }\n",
              "\n",
              "    .dataframe tbody tr th {\n",
              "        vertical-align: top;\n",
              "    }\n",
              "\n",
              "    .dataframe thead th {\n",
              "        text-align: right;\n",
              "    }\n",
              "</style>\n",
              "<table border=\"1\" class=\"dataframe\">\n",
              "  <thead>\n",
              "    <tr style=\"text-align: right;\">\n",
              "      <th></th>\n",
              "      <th>text_id</th>\n",
              "      <th>full_text</th>\n",
              "      <th>cohesion</th>\n",
              "      <th>syntax</th>\n",
              "      <th>vocabulary</th>\n",
              "      <th>phraseology</th>\n",
              "      <th>grammar</th>\n",
              "      <th>conventions</th>\n",
              "    </tr>\n",
              "  </thead>\n",
              "  <tbody>\n",
              "    <tr>\n",
              "      <th>0</th>\n",
              "      <td>0016926B079C</td>\n",
              "      <td>think students benefit learning home wo nt cha...</td>\n",
              "      <td>3.5</td>\n",
              "      <td>3.5</td>\n",
              "      <td>3.0</td>\n",
              "      <td>3.0</td>\n",
              "      <td>4.0</td>\n",
              "      <td>3.0</td>\n",
              "    </tr>\n",
              "    <tr>\n",
              "      <th>1</th>\n",
              "      <td>0022683E9EA5</td>\n",
              "      <td>problem change let best matter happening chang...</td>\n",
              "      <td>2.5</td>\n",
              "      <td>2.5</td>\n",
              "      <td>3.0</td>\n",
              "      <td>2.0</td>\n",
              "      <td>2.0</td>\n",
              "      <td>2.5</td>\n",
              "    </tr>\n",
              "    <tr>\n",
              "      <th>2</th>\n",
              "      <td>00299B378633</td>\n",
              "      <td>Dear PrincipalIf u change school policy having...</td>\n",
              "      <td>3.0</td>\n",
              "      <td>3.5</td>\n",
              "      <td>3.0</td>\n",
              "      <td>3.0</td>\n",
              "      <td>3.0</td>\n",
              "      <td>2.5</td>\n",
              "    </tr>\n",
              "    <tr>\n",
              "      <th>3</th>\n",
              "      <td>003885A45F42</td>\n",
              "      <td>best time life agree greatest accomplishment w...</td>\n",
              "      <td>4.5</td>\n",
              "      <td>4.5</td>\n",
              "      <td>4.5</td>\n",
              "      <td>4.5</td>\n",
              "      <td>4.0</td>\n",
              "      <td>5.0</td>\n",
              "    </tr>\n",
              "    <tr>\n",
              "      <th>4</th>\n",
              "      <td>0049B1DF5CCC</td>\n",
              "      <td>Small act kindness impact people change people...</td>\n",
              "      <td>2.5</td>\n",
              "      <td>3.0</td>\n",
              "      <td>3.0</td>\n",
              "      <td>3.0</td>\n",
              "      <td>2.5</td>\n",
              "      <td>2.5</td>\n",
              "    </tr>\n",
              "  </tbody>\n",
              "</table>\n",
              "</div>"
            ],
            "text/plain": [
              "        text_id                                          full_text  cohesion  \\\n",
              "0  0016926B079C  think students benefit learning home wo nt cha...       3.5   \n",
              "1  0022683E9EA5  problem change let best matter happening chang...       2.5   \n",
              "2  00299B378633  Dear PrincipalIf u change school policy having...       3.0   \n",
              "3  003885A45F42  best time life agree greatest accomplishment w...       4.5   \n",
              "4  0049B1DF5CCC  Small act kindness impact people change people...       2.5   \n",
              "\n",
              "   syntax  vocabulary  phraseology  grammar  conventions  \n",
              "0     3.5         3.0          3.0      4.0          3.0  \n",
              "1     2.5         3.0          2.0      2.0          2.5  \n",
              "2     3.5         3.0          3.0      3.0          2.5  \n",
              "3     4.5         4.5          4.5      4.0          5.0  \n",
              "4     3.0         3.0          3.0      2.5          2.5  "
            ]
          },
          "execution_count": 25,
          "metadata": {},
          "output_type": "execute_result"
        }
      ],
      "source": [
        "import spacy\n",
        "nlp = spacy.load('en_core_web_sm')\n",
        "def remove_swp(text):\n",
        "    text_nlp = nlp(text)\n",
        "    filtered_text= [token for token in text_nlp if not token.is_stop]\n",
        "    filtered_text=[token.text for token in filtered_text if not token.is_punct]\n",
        "    filtered_text = \" \".join(filtered_text)\n",
        "    return filtered_text\n",
        "\n",
        "clean_train[\"full_text\"] = clean_train[\"full_text\"].apply(remove_swp)\n",
        "clean_train.head()"
      ]
    },
    {
      "cell_type": "code",
      "execution_count": 26,
      "metadata": {},
      "outputs": [
        {
          "name": "stdout",
          "output_type": "stream",
          "text": [
            "[[   0    0    0 ...  139 1535   27]\n",
            " [   0    0    0 ...  117    2   12]\n",
            " [   0    0    0 ...   75  165  103]\n",
            " ...\n",
            " [   0    0    0 ...   97 1364  755]\n",
            " [   0    0    0 ...    2  783 1426]\n",
            " [   0    0    0 ...   16 1265 1359]]\n"
          ]
        }
      ],
      "source": [
        "import tensorflow as tf\n",
        "from tensorflow.keras.preprocessing.text import Tokenizer\n",
        "from tensorflow.keras.preprocessing.sequence import pad_sequences\n",
        "\n",
        "#max_palabras = train[\"npalabra\"].max()\n",
        "tokenizer = Tokenizer(oov_token=\"<OOV>\")\n",
        "\n",
        "tokenizer.fit_on_texts(clean_train['full_text'])\n",
        "\n",
        "secuencia_train = tokenizer.texts_to_sequences(clean_train['full_text'])\n",
        "rellenos_train = pad_sequences(secuencia_train, maxlen=max_palabras, truncating='post')\n",
        "\n",
        "index_palabras = tokenizer.word_index\n",
        "\n",
        "print(rellenos_train)\n"
      ]
    },
    {
      "cell_type": "code",
      "execution_count": 27,
      "metadata": {},
      "outputs": [],
      "source": [
        "X_train = rellenos_train\n",
        "y = [train['cohesion'].values, train['syntax'].values, train['vocabulary'].values,\n",
        "      train['phraseology'].values, train['grammar'].values, train['conventions'].values]\n"
      ]
    },
    {
      "cell_type": "code",
      "execution_count": 30,
      "metadata": {},
      "outputs": [],
      "source": [
        "def modelo_lstm_definido():\n",
        "\n",
        "    cuenta_index_palabras = len(index_palabras)\n",
        "\n",
        "    inputs = tf.keras.layers.Input(shape=(max_pala))\n",
        "    embeddings = tf.keras.layers.Embedding(cuenta_index_palabras + 1, 512, input_length=max_pala)(inputs)\n",
        "\n",
        "    Bidilayers = tf.keras.layers.Bidirectional(tf.keras.layers.LSTM(512, return_sequences=True))(embeddings)\n",
        "    Bidilayers = tf.keras.layers.Bidirectional(tf.keras.layers.LSTM(128, return_sequences=True))(Bidilayers)\n",
        "    Bidilayers = tf.keras.layers.Bidirectional(tf.keras.layers.LSTM(128, return_sequences=True))(Bidilayers)\n",
        "    #x = tf.keras.layers.Bidirectional(tf.keras.layers.LSTM(64))(x)\n",
        "    \n",
        "    \n",
        "\n",
        "    cohesion = tf.keras.layers.Dense(128, activation='sigmoid', kernel_initializer=tf.keras.initializers.random_normal, \n",
        "                                    bias_initializer='zeros')(Bidilayers)\n",
        "                                    # kernel_regularizer=tf.keras.regularizers.L1L2(l1=1e-5, l2=1e-4), \n",
        "                                    # bias_regularizer=tf.keras.regularizers.L2(1e-4), \n",
        "                                    # activity_regularizer=tf.keras.regularizers.L2(1e-5))(x)\n",
        "    # cohesion = tf.keras.layers.Dropout(0.4)(cohesion)\n",
        "    # cohesion = tf.keras.layers.Dense(64, activation='sigmoid', kernel_initializer=tf.keras.initializers.random_normal, \n",
        "    #                                 bias_initializer='zeros')\n",
        "                                    # kernel_regularizer=tf.keras.regularizers.L1L2(l1=1e-5, l2=1e-4), \n",
        "                                    # bias_regularizer=tf.keras.regularizers.L2(1e-4), \n",
        "                                    # activity_regularizer=tf.keras.regularizers.L2(1e-5))(cohesion)\n",
        "    cohesion = tf.keras.layers.Dropout(0.4)(cohesion)\n",
        "    cohesion = tf.keras.layers.Dense(1, activation='sigmoid', name='cohesion')(cohesion)\n",
        "    \n",
        "    syntax = tf.keras.layers.Dense(128, activation='sigmoid', kernel_initializer=tf.keras.initializers.random_normal, \n",
        "                                    bias_initializer='zeros')(Bidilayers)\n",
        "                                    # kernel_regularizer=tf.keras.regularizers.L1L2(l1=1e-5, l2=1e-4), \n",
        "                                    # bias_regularizer=tf.keras.regularizers.L2(1e-4), \n",
        "                                    # activity_regularizer=tf.keras.regularizers.L2(1e-5))(x)\n",
        "    # syntax = tf.keras.layers.Dropout(0.4)(syntax)\n",
        "    # syntax = tf.keras.layers.Dense(64, activation='sigmoid', kernel_initializer=tf.keras.initializers.random_normal, \n",
        "    #                                 bias_initializer='zeros')\n",
        "                                    # kernel_regularizer=tf.keras.regularizers.L1L2(l1=1e-5, l2=1e-4), \n",
        "                                    # bias_regularizer=tf.keras.regularizers.L2(1e-4), \n",
        "                                    # activity_regularizer=tf.keras.regularizers.L2(1e-5))(syntax)\n",
        "    syntax = tf.keras.layers.Dropout(0.4)(syntax)\n",
        "    syntax = tf.keras.layers.Dense(1, activation='sigmoid', name='syntax')(syntax)\n",
        "    \n",
        "    vocabulary = tf.keras.layers.Dense(128, activation='sigmoid', kernel_initializer=tf.keras.initializers.random_normal, \n",
        "                                    bias_initializer='zeros')(Bidilayers)\n",
        "                                    # kernel_regularizer=tf.keras.regularizers.L1L2(l1=1e-5, l2=1e-4), \n",
        "                                    # bias_regularizer=tf.keras.regularizers.L2(1e-4), \n",
        "                                    # activity_regularizer=tf.keras.regularizers.L2(1e-5))(x)\n",
        "    # vocabulary = tf.keras.layers.Dropout(0.4)(vocabulary)\n",
        "    # vocabulary = tf.keras.layers.Dense(64, activation='sigmoid', kernel_initializer=tf.keras.initializers.random_normal, \n",
        "    #                                 bias_initializer='zeros')\n",
        "                                    # kernel_regularizer=tf.keras.regularizers.L1L2(l1=1e-5, l2=1e-4), \n",
        "                                    # bias_regularizer=tf.keras.regularizers.L2(1e-4), \n",
        "                                    # activity_regularizer=tf.keras.regularizers.L2(1e-5))(vocabulary)\n",
        "    vocabulary = tf.keras.layers.Dropout(0.4)(vocabulary)\n",
        "    vocabulary = tf.keras.layers.Dense(1, activation='sigmoid', name='vocabulary')(vocabulary)\n",
        "    \n",
        "    phraseology = tf.keras.layers.Dense(128, activation='sigmoid', kernel_initializer=tf.keras.initializers.random_normal, \n",
        "                                    bias_initializer='zeros')(Bidilayers)\n",
        "                                    # kernel_regularizer=tf.keras.regularizers.L1L2(l1=1e-5, l2=1e-4), \n",
        "                                    # bias_regularizer=tf.keras.regularizers.L2(1e-4), \n",
        "                                    # activity_regularizer=tf.keras.regularizers.L2(1e-5))(x)\n",
        "    # phraseology = tf.keras.layers.Dropout(0.4)(phraseology)\n",
        "    # phraseology = tf.keras.layers.Dense(64, activation='sigmoid', kernel_initializer=tf.keras.initializers.random_normal, \n",
        "    #                                 bias_initializer='zeros')\n",
        "                                    # kernel_regularizer=tf.keras.regularizers.L1L2(l1=1e-5, l2=1e-4), \n",
        "                                    # bias_regularizer=tf.keras.regularizers.L2(1e-4), \n",
        "                                    # activity_regularizer=tf.keras.regularizers.L2(1e-5))(phraseology)\n",
        "    phraseology = tf.keras.layers.Dropout(0.4)(phraseology)\n",
        "    phraseology = tf.keras.layers.Dense(1, activation='sigmoid', name='phraseology')(phraseology)\n",
        "    \n",
        "    grammar = tf.keras.layers.Dense(128, activation='sigmoid', kernel_initializer=tf.keras.initializers.random_normal, \n",
        "                                    bias_initializer='zeros')(Bidilayers)\n",
        "                                    # kernel_regularizer=tf.keras.regularizers.L1L2(l1=1e-5, l2=1e-4), \n",
        "                                    # bias_regularizer=tf.keras.regularizers.L2(1e-4), \n",
        "                                    # activity_regularizer=tf.keras.regularizers.L2(1e-5))(x)\n",
        "    # grammar = tf.keras.layers.Dropout(0.4)(grammar)\n",
        "    # grammar = tf.keras.layers.Dense(64, activation='sigmoid', kernel_initializer=tf.keras.initializers.random_normal, \n",
        "    #                                 bias_initializer='zeros')\n",
        "                                    # kernel_regularizer=tf.keras.regularizers.L1L2(l1=1e-5, l2=1e-4), \n",
        "                                    # bias_regularizer=tf.keras.regularizers.L2(1e-4), \n",
        "                                    # activity_regularizer=tf.keras.regularizers.L2(1e-5))(grammar)\n",
        "    grammar = tf.keras.layers.Dropout(0.4)(grammar)\n",
        "    grammar = tf.keras.layers.Dense(1, activation='sigmoid', name='grammar')(grammar)  \n",
        "    \n",
        "    conventions = tf.keras.layers.Dense(128, activation='sigmoid', kernel_initializer=tf.keras.initializers.random_normal, \n",
        "                                    bias_initializer='zeros')(Bidilayers)\n",
        "                                    # kernel_regularizer=tf.keras.regularizers.L1L2(l1=1e-5, l2=1e-4), \n",
        "                                    # bias_regularizer=tf.keras.regularizers.L2(1e-4), \n",
        "                                    # activity_regularizer=tf.keras.regularizers.L2(1e-5))(x)\n",
        "    # conventions = tf.keras.layers.Dropout(0.4)(conventions)\n",
        "    # conventions = tf.keras.layers.Dense(64, activation='sigmoid', kernel_initializer=tf.keras.initializers.random_normal, \n",
        "    #                                 bias_initializer='zeros')\n",
        "                                    # kernel_regularizer=tf.keras.regularizers.L1L2(l1=1e-5, l2=1e-4), \n",
        "                                    # bias_regularizer=tf.keras.regularizers.L2(1e-4), \n",
        "                                    # activity_regularizer=tf.keras.regularizers.L2(1e-5))(conventions)\n",
        "    conventions = tf.keras.layers.Dropout(0.4)(conventions)\n",
        "    conventions = tf.keras.layers.Dense(1, activation='sigmoid', name='conventions')(conventions)\n",
        "    \n",
        "    model = tf.keras.models.Model(inputs=inputs, outputs=[cohesion, syntax, vocabulary, phraseology, grammar, conventions])\n",
        "    \n",
        "    model.compile(\n",
        "        optimizer=tf.keras.optimizers.Adam(),\n",
        "        loss = tf.keras.losses.mean_squared_error\n",
        "    )\n",
        "    \n",
        "    return model"
      ]
    },
    {
      "cell_type": "code",
      "execution_count": 31,
      "metadata": {},
      "outputs": [],
      "source": [
        "modelo = modelo_lstm_definido()"
      ]
    },
    {
      "cell_type": "code",
      "execution_count": 32,
      "metadata": {},
      "outputs": [
        {
          "name": "stdout",
          "output_type": "stream",
          "text": [
            "Model: \"model\"\n",
            "__________________________________________________________________________________________________\n",
            " Layer (type)                   Output Shape         Param #     Connected to                     \n",
            "==================================================================================================\n",
            " input_2 (InputLayer)           [(None, 1260)]       0           []                               \n",
            "                                                                                                  \n",
            " embedding (Embedding)          (None, 1260, 512)    11390976    ['input_2[0][0]']                \n",
            "                                                                                                  \n",
            " bidirectional (Bidirectional)  (None, 1260, 1024)   4198400     ['embedding[0][0]']              \n",
            "                                                                                                  \n",
            " bidirectional_1 (Bidirectional  (None, 1260, 256)   1180672     ['bidirectional[0][0]']          \n",
            " )                                                                                                \n",
            "                                                                                                  \n",
            " bidirectional_2 (Bidirectional  (None, 1260, 256)   394240      ['bidirectional_1[0][0]']        \n",
            " )                                                                                                \n",
            "                                                                                                  \n",
            " dense (Dense)                  (None, 1260, 128)    32896       ['bidirectional_2[0][0]']        \n",
            "                                                                                                  \n",
            " dense_1 (Dense)                (None, 1260, 128)    32896       ['bidirectional_2[0][0]']        \n",
            "                                                                                                  \n",
            " dense_2 (Dense)                (None, 1260, 128)    32896       ['bidirectional_2[0][0]']        \n",
            "                                                                                                  \n",
            " dense_3 (Dense)                (None, 1260, 128)    32896       ['bidirectional_2[0][0]']        \n",
            "                                                                                                  \n",
            " dense_4 (Dense)                (None, 1260, 128)    32896       ['bidirectional_2[0][0]']        \n",
            "                                                                                                  \n",
            " dense_5 (Dense)                (None, 1260, 128)    32896       ['bidirectional_2[0][0]']        \n",
            "                                                                                                  \n",
            " dropout (Dropout)              (None, 1260, 128)    0           ['dense[0][0]']                  \n",
            "                                                                                                  \n",
            " dropout_1 (Dropout)            (None, 1260, 128)    0           ['dense_1[0][0]']                \n",
            "                                                                                                  \n",
            " dropout_2 (Dropout)            (None, 1260, 128)    0           ['dense_2[0][0]']                \n",
            "                                                                                                  \n",
            " dropout_3 (Dropout)            (None, 1260, 128)    0           ['dense_3[0][0]']                \n",
            "                                                                                                  \n",
            " dropout_4 (Dropout)            (None, 1260, 128)    0           ['dense_4[0][0]']                \n",
            "                                                                                                  \n",
            " dropout_5 (Dropout)            (None, 1260, 128)    0           ['dense_5[0][0]']                \n",
            "                                                                                                  \n",
            " cohesion (Dense)               (None, 1260, 1)      129         ['dropout[0][0]']                \n",
            "                                                                                                  \n",
            " syntax (Dense)                 (None, 1260, 1)      129         ['dropout_1[0][0]']              \n",
            "                                                                                                  \n",
            " vocabulary (Dense)             (None, 1260, 1)      129         ['dropout_2[0][0]']              \n",
            "                                                                                                  \n",
            " phraseology (Dense)            (None, 1260, 1)      129         ['dropout_3[0][0]']              \n",
            "                                                                                                  \n",
            " grammar (Dense)                (None, 1260, 1)      129         ['dropout_4[0][0]']              \n",
            "                                                                                                  \n",
            " conventions (Dense)            (None, 1260, 1)      129         ['dropout_5[0][0]']              \n",
            "                                                                                                  \n",
            "==================================================================================================\n",
            "Total params: 17,362,438\n",
            "Trainable params: 17,362,438\n",
            "Non-trainable params: 0\n",
            "__________________________________________________________________________________________________\n"
          ]
        }
      ],
      "source": [
        "modelo.summary()"
      ]
    },
    {
      "cell_type": "code",
      "execution_count": 62,
      "metadata": {},
      "outputs": [
        {
          "name": "stdout",
          "output_type": "stream",
          "text": [
            "You must install pydot (`pip install pydot`) and install graphviz (see instructions at https://graphviz.gitlab.io/download/) for plot_model to work.\n"
          ]
        }
      ],
      "source": [
        "tf.keras.utils.plot_model(modelo, show_shapes=True, show_layer_names=True, to_file=\"modelstm.png\")"
      ]
    },
    {
      "cell_type": "code",
      "execution_count": 66,
      "metadata": {},
      "outputs": [],
      "source": [
        "import os\n",
        "#Direcciones de servidos de jupyter local\n",
        "csv_path = os.path.basename(\"/Users/Esteban/Desktop/Intro I.A/Micro-projecto 4/archive/CLASS_NAMES.csv\")\n",
        "butterflies_csv = os.path.basename(\"/Users/Esteban/Desktop/Intro I.A/Micro-projecto 4/archive/butterflies.csv\")\n",
        "TRAIN_DIR = os.path.basename(\"/Users/Esteban/Desktop/Intro I.A/Micro-projecto 4/archive/train\")\n",
        "TEST_DIR = os.path.basename(\"/Users/Esteban/Desktop/Intro I.A/Micro-projecto 4/archive/test\")\n",
        "VALID_DIR = os.path.basename(\"/Users/Esteban/Desktop/Intro I.A/Micro-projecto 4/archive/test\")\n",
        "\n",
        "#Direcciones y constantes de callbacks\n",
        "WORKSPACE_FOLDER_PATH = os.path.basename(\"/Users/Esteban/Desktop/Intro I.A/Micro-projecto 4\")\n",
        "OUTPUT_FOLDER_NAME = \"Outputs\"\n",
        "STOPPING_PATIENCE = 50  # Epochs\n",
        "LR_PATIENCE = 4  # Epochs\n",
        "MODEL_NAME = \"modelo\"\n",
        "TEST_SET_FRACTION = 0.2  # Fracción de todo el conjunto de datos.\n",
        "BATCH_SIZE = 32\n",
        "MAX_EPOCHS = 50\n"
      ]
    },
    {
      "cell_type": "code",
      "execution_count": null,
      "metadata": {},
      "outputs": [],
      "source": [
        "def create_callbacks(output_folder_path, model_name, stopping_patience, lr_patience):\n",
        "  \n",
        "  from keras.callbacks import CSVLogger, EarlyStopping, ModelCheckpoint, ReduceLROnPlateau, os\n",
        "  csv_logger = CSVLogger(os.path.join(output_folder_path, f\"training_sequences_{model_name}.csv\"))\n",
        "  early_stopping = EarlyStopping(patience=stopping_patience, verbose=1, restore_best_weights=True)\n",
        "  model_checkpoint = ModelCheckpoint(os.path.join(output_folder_path, f\"best_{model_name}.hdf5\"),\n",
        "    verbose=1,\n",
        "    save_best_only=True\n",
        "  )\n",
        "  reduce_lr = ReduceLROnPlateau(factor=0.5, patience=lr_patience, min_lr=0.01125)\n",
        "\n",
        "  return [csv_logger, early_stopping, model_checkpoint, reduce_lr]\n",
        "\n",
        "callbacks = create_callbacks(\n",
        "  os.path.join(WORKSPACE_FOLDER_PATH, OUTPUT_FOLDER_NAME),\n",
        "  MODEL_NAME,\n",
        "  STOPPING_PATIENCE,\n",
        "  LR_PATIENCE\n",
        ")"
      ]
    },
    {
      "cell_type": "code",
      "execution_count": null,
      "metadata": {},
      "outputs": [],
      "source": [
        "historia = modelo.fit(X_train, y, epochs=50,  shuffle=True, validation_split=0.2, verbose=1, callbacks = callbacks)"
      ]
    }
  ],
  "metadata": {
    "colab": {
      "provenance": []
    },
    "kernelspec": {
      "display_name": "Python 3.10.1 64-bit",
      "language": "python",
      "name": "python3"
    },
    "language_info": {
      "codemirror_mode": {
        "name": "ipython",
        "version": 3
      },
      "file_extension": ".py",
      "mimetype": "text/x-python",
      "name": "python",
      "nbconvert_exporter": "python",
      "pygments_lexer": "ipython3",
      "version": "3.10.1"
    },
    "vscode": {
      "interpreter": {
        "hash": "9ff11eddca2130565582ee9be74229b77e25347cae9a637ef4e90e7e22141700"
      }
    }
  },
  "nbformat": 4,
  "nbformat_minor": 0
}
